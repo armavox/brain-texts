{
 "cells": [
  {
   "cell_type": "code",
   "execution_count": 6,
   "metadata": {},
   "outputs": [],
   "source": [
    "import re\n",
    "from bert_embedding import BertEmbedding"
   ]
  },
  {
   "cell_type": "code",
   "execution_count": 70,
   "metadata": {},
   "outputs": [],
   "source": [
    "import pandas as pd"
   ]
  },
  {
   "cell_type": "code",
   "execution_count": 3,
   "metadata": {},
   "outputs": [],
   "source": [
    "text = \"\"\"On MR images of the sub-and supratentorial structures of the brain, supplemented by intravenous contrast (Gadovist 10 ml) obtained the following data:\n",
    "• in the brain substance numerous formations of specific genesis in both hemispheres of the brain were revealed:\n",
    "o - at least 7 in the left hemisphere - from 2mm to 4.5mm in diameter;\n",
    "o - at least 4 in the right cerebral hemisphere from 2mm to 8x7mm in the supratentorial regions of the frontal-parietal region, 14x17mm in the basal regions of the temporal lobe;\n",
    "o - in the left hemisphere of the cerebellum two formations 9x7.5mm and 9.2x8.3mm\"\"\""
   ]
  },
  {
   "cell_type": "code",
   "execution_count": 11,
   "metadata": {},
   "outputs": [
    {
     "data": {
      "text/plain": [
       "'On MR images of the sub-and supratentorial structures of the brain, supplemented by intravenous contrast (Gadovist 10 ml) obtained the following data:\\n• in the brain substance numerous formations of specific genesis in both hemispheres of the brain were revealed:\\no - at least 7 in the left hemisphere - from 2mm to 4.5mm in diameter;\\no - at least 4 in the right cerebral hemisphere from 2mm to 8x7mm in the supratentorial regions of the frontal-parietal region, 14x17mm in the basal regions of the temporal lobe;\\no - in the left hemisphere of the cerebellum two formations 9x7.5mm and 9.2x8.3mm'"
      ]
     },
     "execution_count": 11,
     "metadata": {},
     "output_type": "execute_result"
    }
   ],
   "source": [
    "text"
   ]
  },
  {
   "cell_type": "code",
   "execution_count": 9,
   "metadata": {},
   "outputs": [],
   "source": [
    "pattern = re.compile(r'[a-zA-Z0-9]+')"
   ]
  },
  {
   "cell_type": "code",
   "execution_count": 12,
   "metadata": {},
   "outputs": [],
   "source": [
    "wordlist = pattern.findall(text)"
   ]
  },
  {
   "cell_type": "code",
   "execution_count": 13,
   "metadata": {},
   "outputs": [
    {
     "name": "stdout",
     "output_type": "stream",
     "text": [
      "Vocab file is not found. Downloading.\n",
      "Downloading /Users/artem/.mxnet/models/book_corpus_wiki_en_uncased-a6607397.zip from https://apache-mxnet.s3-accelerate.dualstack.amazonaws.com/gluon/dataset/vocab/book_corpus_wiki_en_uncased-a6607397.zip...\n",
      "Downloading /Users/artem/.mxnet/models/bert_12_768_12_book_corpus_wiki_en_uncased-75cc780f.zip from https://apache-mxnet.s3-accelerate.dualstack.amazonaws.com/gluon/models/bert_12_768_12_book_corpus_wiki_en_uncased-75cc780f.zip...\n"
     ]
    }
   ],
   "source": [
    "be = BertEmbedding()"
   ]
  },
  {
   "cell_type": "code",
   "execution_count": 15,
   "metadata": {},
   "outputs": [],
   "source": [
    "embs = be(wordlist)"
   ]
  },
  {
   "cell_type": "code",
   "execution_count": 92,
   "metadata": {},
   "outputs": [],
   "source": [
    "train_df = pd.read_csv('/Users/artem/pyprojects/brain-tumor/data/TRAIN_SET/ozerki_annotated_not_segmented/brain-text1.csv', names=['name', 'annot', 'label'])"
   ]
  },
  {
   "cell_type": "code",
   "execution_count": 419,
   "metadata": {},
   "outputs": [],
   "source": [
    "train_df['label'].to_csv('labels.txt', sep='\\n', header=False, index=False)"
   ]
  },
  {
   "cell_type": "code",
   "execution_count": 95,
   "metadata": {},
   "outputs": [],
   "source": [
    "X = train_df['annot']"
   ]
  },
  {
   "cell_type": "code",
   "execution_count": 68,
   "metadata": {},
   "outputs": [],
   "source": [
    "import torch\n",
    "from pytorch_pretrained_bert import BertTokenizer, BertModel\n",
    "\n",
    "batch_size = 32\n",
    "X_train, y_train = samples_from_file('train.csv') # Put your own data loading function here\n",
    "tokenizer = BertTokenizer.from_pretrained('bert-base-uncased')\n",
    "X_train = [tokenizer.tokenize('[CLS] ' + sent + ' [SEP]') for sent in X_train] # Appending [CLS] and [SEP] tokens - this probably can be done in a cleaner way\n",
    "bert_model = BertModel.from_pretrained('bert-base-uncased')\n",
    "bert_model = bert_model.cuda()\n",
    "\n",
    "X_train_tokens = [tokenizer.convert_tokens_to_ids(sent) for sent in X_train]\n",
    "results = torch.zeros((len(X_test_tokens), bert_model.config.hidden_size)).long()\n",
    "with torch.no_grad():\n",
    "    for stidx in range(0, len(X_test_tokens), batch_size):\n",
    "        X = X_test_tokens[stidx:stidx + batch_size]\n",
    "        X = torch.LongTensor(X).cuda()\n",
    "        _, pooled_output = bert_model(X)\n",
    "        results[stidx:stidx + batch_size,:] = pooled_output.cpu()"
   ]
  },
  {
   "cell_type": "code",
   "execution_count": 87,
   "metadata": {},
   "outputs": [
    {
     "name": "stderr",
     "output_type": "stream",
     "text": [
      "100%|██████████| 231508/231508 [00:00<00:00, 487585.31B/s]\n"
     ]
    }
   ],
   "source": [
    "tokenizer = BertTokenizer.from_pretrained('bert-base-uncased')"
   ]
  },
  {
   "cell_type": "code",
   "execution_count": 100,
   "metadata": {},
   "outputs": [
    {
     "name": "stderr",
     "output_type": "stream",
     "text": [
      "100%|██████████| 407873900/407873900 [04:18<00:00, 1579449.69B/s]\n"
     ]
    }
   ],
   "source": [
    "bert_model = BertModel.from_pretrained('bert-base-uncased')"
   ]
  },
  {
   "cell_type": "code",
   "execution_count": 147,
   "metadata": {},
   "outputs": [],
   "source": [
    "class InputExample(object):\n",
    "\n",
    "    def __init__(self, unique_id, text_a, text_b=None):\n",
    "        self.unique_id = unique_id\n",
    "        self.text_a = text_a\n",
    "        self.text_b = text_b\n",
    "    \n",
    "    def __repr__(self):\n",
    "        return self.text_a"
   ]
  },
  {
   "cell_type": "code",
   "execution_count": 248,
   "metadata": {},
   "outputs": [],
   "source": [
    "def read_sequence(input_sentences):\n",
    "    examples = []\n",
    "    unique_id = 0\n",
    "    for sentence in input_sentences:\n",
    "        examples.append(InputExample(unique_id=unique_id, text_a=sentence))\n",
    "        unique_id += 1\n",
    "    return examples\n",
    "\n",
    "examples = read_sequence(X)"
   ]
  },
  {
   "cell_type": "code",
   "execution_count": 127,
   "metadata": {},
   "outputs": [],
   "source": [
    "class InputFeatures(object):\n",
    "    \"\"\"A single set of features of data.\"\"\"\n",
    "\n",
    "    def __init__(self, unique_id, tokens, input_ids, input_mask, input_type_ids):\n",
    "        self.unique_id = unique_id\n",
    "        self.tokens = tokens\n",
    "        self.input_ids = input_ids\n",
    "        self.input_mask = input_mask\n",
    "        self.input_type_ids = input_type_ids"
   ]
  },
  {
   "cell_type": "code",
   "execution_count": 247,
   "metadata": {},
   "outputs": [],
   "source": [
    "def convert_examples_to_features(examples, seq_length, tokenizer):\n",
    "    \"\"\"Loads a data file into a list of `InputBatch`s.\"\"\"\n",
    "\n",
    "    features = []\n",
    "    for (ex_index, example) in enumerate(examples):\n",
    "        tokens_a = tokenizer.tokenize(example.text_a)\n",
    "\n",
    "        tokens_b = None\n",
    "        if example.text_b:\n",
    "            tokens_b = tokenizer.tokenize(example.text_b)\n",
    "\n",
    "        if tokens_b:\n",
    "            # Modifies `tokens_a` and `tokens_b` in place so that the total\n",
    "            # length is less than the specified length.\n",
    "            # Account for [CLS], [SEP], [SEP] with \"- 3\"\n",
    "            _truncate_seq_pair(tokens_a, tokens_b, seq_length - 3)\n",
    "        else:\n",
    "            # Account for [CLS] and [SEP] with \"- 2\"\n",
    "            if len(tokens_a) > seq_length - 2:\n",
    "                tokens_a = tokens_a[0:(seq_length - 2)]\n",
    "\n",
    "        # The convention in BERT is:\n",
    "        # (a) For sequence pairs:\n",
    "        #  tokens:   [CLS] is this jack ##son ##ville ? [SEP] no it is not . [SEP]\n",
    "        #  type_ids: 0     0  0    0    0     0       0 0     1  1  1  1   1 1\n",
    "        # (b) For single sequences:\n",
    "        #  tokens:   [CLS] the dog is hairy . [SEP]\n",
    "        #  type_ids: 0     0   0   0  0     0 0\n",
    "        #\n",
    "        # Where \"type_ids\" are used to indicate whether this is the first\n",
    "        # sequence or the second sequence. The embedding vectors for `type=0` and\n",
    "        # `type=1` were learned during pre-training and are added to the wordpiece\n",
    "        # embedding vector (and position vector). This is not *strictly* necessary\n",
    "        # since the [SEP] token unambiguously separates the sequences, but it makes\n",
    "        # it easier for the model to learn the concept of sequences.\n",
    "        #\n",
    "        # For classification tasks, the first vector (corresponding to [CLS]) is\n",
    "        # used as as the \"sentence vector\". Note that this only makes sense because\n",
    "        # the entire model is fine-tuned.\n",
    "        tokens = []\n",
    "        input_type_ids = []\n",
    "        tokens.append(\"[CLS]\")\n",
    "        input_type_ids.append(0)\n",
    "        for token in tokens_a:\n",
    "            tokens.append(token)\n",
    "            input_type_ids.append(0)\n",
    "        tokens.append(\"[SEP]\")\n",
    "        input_type_ids.append(0)\n",
    "        \n",
    "        if tokens_b:\n",
    "            for token in tokens_b:\n",
    "                tokens.append(token)\n",
    "                input_type_ids.append(1)\n",
    "            tokens.append(\"[SEP]\")\n",
    "            input_type_ids.append(1)\n",
    "\n",
    "        input_ids = tokenizer.convert_tokens_to_ids(tokens)\n",
    "\n",
    "        # The mask has 1 for real tokens and 0 for padding tokens. Only real\n",
    "        # tokens are attended to.\n",
    "        input_mask = [1] * len(input_ids)\n",
    "\n",
    "        # Zero-pad up to the sequence length.\n",
    "        while len(input_ids) < seq_length:\n",
    "            input_ids.append(0)\n",
    "            input_mask.append(0)\n",
    "            input_type_ids.append(0)\n",
    "\n",
    "        assert len(input_ids) == seq_length, f'{input_ids, len(input_ids)}'\n",
    "        assert len(input_mask) == seq_length\n",
    "        assert len(input_type_ids) == seq_length\n",
    "\n",
    "        features.append(\n",
    "            InputFeatures(\n",
    "                unique_id=example.unique_id,\n",
    "                tokens=tokens,\n",
    "                input_ids=input_ids,\n",
    "                input_mask=input_mask,\n",
    "                input_type_ids=input_type_ids))\n",
    "    return features\n",
    "\n",
    "def _truncate_seq_pair(tokens_a, tokens_b, max_length):\n",
    "    \"\"\"Truncates a sequence pair in place to the maximum length.\"\"\"\n",
    "\n",
    "    # This is a simple heuristic which will always truncate the longer sequence\n",
    "    # one token at a time. This makes more sense than truncating an equal percent\n",
    "    # of tokens from each, since if one sequence is very short then each token\n",
    "    # that's truncated likely contains more information than a longer sequence.\n",
    "    while True:\n",
    "        total_length = len(tokens_a) + len(tokens_b)\n",
    "        if total_length <= max_length:\n",
    "            break\n",
    "        if len(tokens_a) > len(tokens_b):\n",
    "            tokens_a.pop()\n",
    "        else:\n",
    "            tokens_b.pop()"
   ]
  },
  {
   "cell_type": "code",
   "execution_count": 249,
   "metadata": {},
   "outputs": [],
   "source": [
    "MAX_SEQ_LENGTH = 256\n",
    "features = convert_examples_to_features(examples, seq_length=MAX_SEQ_LENGTH, tokenizer=tokenizer)"
   ]
  },
  {
   "cell_type": "code",
   "execution_count": 214,
   "metadata": {},
   "outputs": [],
   "source": [
    "def get_features(input_text, dim=768):\n",
    "    layer_indexes = LAYERS\n",
    "  \n",
    "    tokenizer = BertTokenizer.from_pretrained('bert-base-uncased')\n",
    "  \n",
    "    examples = read_sequence(input_text)\n",
    "  \n",
    "    features = convert_examples_to_features(\n",
    "        examples=examples, seq_length=MAX_SEQ_LENGTH, tokenizer=tokenizer)\n",
    "  \n",
    "    unique_id_to_feature = {}\n",
    "    for feature in features:\n",
    "        unique_id_to_feature[feature.unique_id] = feature\n",
    "  \n",
    "    model_fn = model_fn_builder(\n",
    "        bert_config=bert_config,\n",
    "        init_checkpoint=INIT_CHECKPOINT,\n",
    "        layer_indexes=layer_indexes,\n",
    "        use_tpu=True,\n",
    "        use_one_hot_embeddings=True)\n",
    "  \n",
    "    input_fn = input_fn_builder(\n",
    "        features=features, seq_length=MAX_SEQ_LENGTH)\n",
    "  \n",
    "    # Get features\n",
    "    for result in estimator.predict(input_fn, yield_single_examples=True):\n",
    "        unique_id = int(result[\"unique_id\"])\n",
    "        feature = unique_id_to_feature[unique_id]\n",
    "        output = collections.OrderedDict()\n",
    "        for (i, token) in enumerate(feature.tokens):\n",
    "            layers = []\n",
    "            for (j, layer_index) in enumerate(layer_indexes):\n",
    "                layer_output = result[\"layer_output_%d\" % j]\n",
    "                layer_output_flat = np.array([x for x in layer_output[i:(i + 1)].flat])\n",
    "                layers.append(layer_output_flat)\n",
    "            output[token] = sum(layers)[:dim]\n",
    "    \n",
    "    return output"
   ]
  },
  {
   "cell_type": "code",
   "execution_count": 265,
   "metadata": {},
   "outputs": [
    {
     "ename": "IndexError",
     "evalue": "Dimension out of range (expected to be in range of [-1, 0], but got 1)",
     "output_type": "error",
     "traceback": [
      "\u001b[0;31m---------------------------------------------------------------------------\u001b[0m",
      "\u001b[0;31mIndexError\u001b[0m                                Traceback (most recent call last)",
      "\u001b[0;32m<ipython-input-265-6889063a2116>\u001b[0m in \u001b[0;36m<module>\u001b[0;34m\u001b[0m\n\u001b[0;32m----> 1\u001b[0;31m \u001b[0mbert_model\u001b[0m\u001b[0;34m(\u001b[0m\u001b[0mtorch\u001b[0m\u001b[0;34m.\u001b[0m\u001b[0mLongTensor\u001b[0m\u001b[0;34m(\u001b[0m\u001b[0;34m[\u001b[0m\u001b[0;36m31\u001b[0m\u001b[0;34m,\u001b[0m \u001b[0;36m51\u001b[0m\u001b[0;34m,\u001b[0m \u001b[0;36m99\u001b[0m\u001b[0;34m]\u001b[0m\u001b[0;34m)\u001b[0m\u001b[0;34m)\u001b[0m\u001b[0;34m\u001b[0m\u001b[0;34m\u001b[0m\u001b[0m\n\u001b[0m",
      "\u001b[0;32m~/miniconda3/envs/brain-texts/lib/python3.7/site-packages/torch/nn/modules/module.py\u001b[0m in \u001b[0;36m__call__\u001b[0;34m(self, *input, **kwargs)\u001b[0m\n\u001b[1;32m    491\u001b[0m             \u001b[0mresult\u001b[0m \u001b[0;34m=\u001b[0m \u001b[0mself\u001b[0m\u001b[0;34m.\u001b[0m\u001b[0m_slow_forward\u001b[0m\u001b[0;34m(\u001b[0m\u001b[0;34m*\u001b[0m\u001b[0minput\u001b[0m\u001b[0;34m,\u001b[0m \u001b[0;34m**\u001b[0m\u001b[0mkwargs\u001b[0m\u001b[0;34m)\u001b[0m\u001b[0;34m\u001b[0m\u001b[0;34m\u001b[0m\u001b[0m\n\u001b[1;32m    492\u001b[0m         \u001b[0;32melse\u001b[0m\u001b[0;34m:\u001b[0m\u001b[0;34m\u001b[0m\u001b[0;34m\u001b[0m\u001b[0m\n\u001b[0;32m--> 493\u001b[0;31m             \u001b[0mresult\u001b[0m \u001b[0;34m=\u001b[0m \u001b[0mself\u001b[0m\u001b[0;34m.\u001b[0m\u001b[0mforward\u001b[0m\u001b[0;34m(\u001b[0m\u001b[0;34m*\u001b[0m\u001b[0minput\u001b[0m\u001b[0;34m,\u001b[0m \u001b[0;34m**\u001b[0m\u001b[0mkwargs\u001b[0m\u001b[0;34m)\u001b[0m\u001b[0;34m\u001b[0m\u001b[0;34m\u001b[0m\u001b[0m\n\u001b[0m\u001b[1;32m    494\u001b[0m         \u001b[0;32mfor\u001b[0m \u001b[0mhook\u001b[0m \u001b[0;32min\u001b[0m \u001b[0mself\u001b[0m\u001b[0;34m.\u001b[0m\u001b[0m_forward_hooks\u001b[0m\u001b[0;34m.\u001b[0m\u001b[0mvalues\u001b[0m\u001b[0;34m(\u001b[0m\u001b[0;34m)\u001b[0m\u001b[0;34m:\u001b[0m\u001b[0;34m\u001b[0m\u001b[0;34m\u001b[0m\u001b[0m\n\u001b[1;32m    495\u001b[0m             \u001b[0mhook_result\u001b[0m \u001b[0;34m=\u001b[0m \u001b[0mhook\u001b[0m\u001b[0;34m(\u001b[0m\u001b[0mself\u001b[0m\u001b[0;34m,\u001b[0m \u001b[0minput\u001b[0m\u001b[0;34m,\u001b[0m \u001b[0mresult\u001b[0m\u001b[0;34m)\u001b[0m\u001b[0;34m\u001b[0m\u001b[0;34m\u001b[0m\u001b[0m\n",
      "\u001b[0;32m~/miniconda3/envs/brain-texts/lib/python3.7/site-packages/pytorch_pretrained_bert/modeling.py\u001b[0m in \u001b[0;36mforward\u001b[0;34m(self, input_ids, token_type_ids, attention_mask, output_all_encoded_layers)\u001b[0m\n\u001b[1;32m    728\u001b[0m         \u001b[0mextended_attention_mask\u001b[0m \u001b[0;34m=\u001b[0m \u001b[0;34m(\u001b[0m\u001b[0;36m1.0\u001b[0m \u001b[0;34m-\u001b[0m \u001b[0mextended_attention_mask\u001b[0m\u001b[0;34m)\u001b[0m \u001b[0;34m*\u001b[0m \u001b[0;34m-\u001b[0m\u001b[0;36m10000.0\u001b[0m\u001b[0;34m\u001b[0m\u001b[0;34m\u001b[0m\u001b[0m\n\u001b[1;32m    729\u001b[0m \u001b[0;34m\u001b[0m\u001b[0m\n\u001b[0;32m--> 730\u001b[0;31m         \u001b[0membedding_output\u001b[0m \u001b[0;34m=\u001b[0m \u001b[0mself\u001b[0m\u001b[0;34m.\u001b[0m\u001b[0membeddings\u001b[0m\u001b[0;34m(\u001b[0m\u001b[0minput_ids\u001b[0m\u001b[0;34m,\u001b[0m \u001b[0mtoken_type_ids\u001b[0m\u001b[0;34m)\u001b[0m\u001b[0;34m\u001b[0m\u001b[0;34m\u001b[0m\u001b[0m\n\u001b[0m\u001b[1;32m    731\u001b[0m         encoded_layers = self.encoder(embedding_output,\n\u001b[1;32m    732\u001b[0m                                       \u001b[0mextended_attention_mask\u001b[0m\u001b[0;34m,\u001b[0m\u001b[0;34m\u001b[0m\u001b[0;34m\u001b[0m\u001b[0m\n",
      "\u001b[0;32m~/miniconda3/envs/brain-texts/lib/python3.7/site-packages/torch/nn/modules/module.py\u001b[0m in \u001b[0;36m__call__\u001b[0;34m(self, *input, **kwargs)\u001b[0m\n\u001b[1;32m    491\u001b[0m             \u001b[0mresult\u001b[0m \u001b[0;34m=\u001b[0m \u001b[0mself\u001b[0m\u001b[0;34m.\u001b[0m\u001b[0m_slow_forward\u001b[0m\u001b[0;34m(\u001b[0m\u001b[0;34m*\u001b[0m\u001b[0minput\u001b[0m\u001b[0;34m,\u001b[0m \u001b[0;34m**\u001b[0m\u001b[0mkwargs\u001b[0m\u001b[0;34m)\u001b[0m\u001b[0;34m\u001b[0m\u001b[0;34m\u001b[0m\u001b[0m\n\u001b[1;32m    492\u001b[0m         \u001b[0;32melse\u001b[0m\u001b[0;34m:\u001b[0m\u001b[0;34m\u001b[0m\u001b[0;34m\u001b[0m\u001b[0m\n\u001b[0;32m--> 493\u001b[0;31m             \u001b[0mresult\u001b[0m \u001b[0;34m=\u001b[0m \u001b[0mself\u001b[0m\u001b[0;34m.\u001b[0m\u001b[0mforward\u001b[0m\u001b[0;34m(\u001b[0m\u001b[0;34m*\u001b[0m\u001b[0minput\u001b[0m\u001b[0;34m,\u001b[0m \u001b[0;34m**\u001b[0m\u001b[0mkwargs\u001b[0m\u001b[0;34m)\u001b[0m\u001b[0;34m\u001b[0m\u001b[0;34m\u001b[0m\u001b[0m\n\u001b[0m\u001b[1;32m    494\u001b[0m         \u001b[0;32mfor\u001b[0m \u001b[0mhook\u001b[0m \u001b[0;32min\u001b[0m \u001b[0mself\u001b[0m\u001b[0;34m.\u001b[0m\u001b[0m_forward_hooks\u001b[0m\u001b[0;34m.\u001b[0m\u001b[0mvalues\u001b[0m\u001b[0;34m(\u001b[0m\u001b[0;34m)\u001b[0m\u001b[0;34m:\u001b[0m\u001b[0;34m\u001b[0m\u001b[0;34m\u001b[0m\u001b[0m\n\u001b[1;32m    495\u001b[0m             \u001b[0mhook_result\u001b[0m \u001b[0;34m=\u001b[0m \u001b[0mhook\u001b[0m\u001b[0;34m(\u001b[0m\u001b[0mself\u001b[0m\u001b[0;34m,\u001b[0m \u001b[0minput\u001b[0m\u001b[0;34m,\u001b[0m \u001b[0mresult\u001b[0m\u001b[0;34m)\u001b[0m\u001b[0;34m\u001b[0m\u001b[0;34m\u001b[0m\u001b[0m\n",
      "\u001b[0;32m~/miniconda3/envs/brain-texts/lib/python3.7/site-packages/pytorch_pretrained_bert/modeling.py\u001b[0m in \u001b[0;36mforward\u001b[0;34m(self, input_ids, token_type_ids)\u001b[0m\n\u001b[1;32m    259\u001b[0m \u001b[0;34m\u001b[0m\u001b[0m\n\u001b[1;32m    260\u001b[0m     \u001b[0;32mdef\u001b[0m \u001b[0mforward\u001b[0m\u001b[0;34m(\u001b[0m\u001b[0mself\u001b[0m\u001b[0;34m,\u001b[0m \u001b[0minput_ids\u001b[0m\u001b[0;34m,\u001b[0m \u001b[0mtoken_type_ids\u001b[0m\u001b[0;34m=\u001b[0m\u001b[0;32mNone\u001b[0m\u001b[0;34m)\u001b[0m\u001b[0;34m:\u001b[0m\u001b[0;34m\u001b[0m\u001b[0;34m\u001b[0m\u001b[0m\n\u001b[0;32m--> 261\u001b[0;31m         \u001b[0mseq_length\u001b[0m \u001b[0;34m=\u001b[0m \u001b[0minput_ids\u001b[0m\u001b[0;34m.\u001b[0m\u001b[0msize\u001b[0m\u001b[0;34m(\u001b[0m\u001b[0;36m1\u001b[0m\u001b[0;34m)\u001b[0m\u001b[0;34m\u001b[0m\u001b[0;34m\u001b[0m\u001b[0m\n\u001b[0m\u001b[1;32m    262\u001b[0m         \u001b[0mposition_ids\u001b[0m \u001b[0;34m=\u001b[0m \u001b[0mtorch\u001b[0m\u001b[0;34m.\u001b[0m\u001b[0marange\u001b[0m\u001b[0;34m(\u001b[0m\u001b[0mseq_length\u001b[0m\u001b[0;34m,\u001b[0m \u001b[0mdtype\u001b[0m\u001b[0;34m=\u001b[0m\u001b[0mtorch\u001b[0m\u001b[0;34m.\u001b[0m\u001b[0mlong\u001b[0m\u001b[0;34m,\u001b[0m \u001b[0mdevice\u001b[0m\u001b[0;34m=\u001b[0m\u001b[0minput_ids\u001b[0m\u001b[0;34m.\u001b[0m\u001b[0mdevice\u001b[0m\u001b[0;34m)\u001b[0m\u001b[0;34m\u001b[0m\u001b[0;34m\u001b[0m\u001b[0m\n\u001b[1;32m    263\u001b[0m         \u001b[0mposition_ids\u001b[0m \u001b[0;34m=\u001b[0m \u001b[0mposition_ids\u001b[0m\u001b[0;34m.\u001b[0m\u001b[0munsqueeze\u001b[0m\u001b[0;34m(\u001b[0m\u001b[0;36m0\u001b[0m\u001b[0;34m)\u001b[0m\u001b[0;34m.\u001b[0m\u001b[0mexpand_as\u001b[0m\u001b[0;34m(\u001b[0m\u001b[0minput_ids\u001b[0m\u001b[0;34m)\u001b[0m\u001b[0;34m\u001b[0m\u001b[0;34m\u001b[0m\u001b[0m\n",
      "\u001b[0;31mIndexError\u001b[0m: Dimension out of range (expected to be in range of [-1, 0], but got 1)"
     ]
    }
   ],
   "source": [
    "bert_model(torch.LongTensor([31, 51, 99]))"
   ]
  },
  {
   "cell_type": "code",
   "execution_count": 263,
   "metadata": {},
   "outputs": [
    {
     "ename": "NameError",
     "evalue": "name 'X_test_tokens' is not defined",
     "output_type": "error",
     "traceback": [
      "\u001b[0;31m---------------------------------------------------------------------------\u001b[0m",
      "\u001b[0;31mNameError\u001b[0m                                 Traceback (most recent call last)",
      "\u001b[0;32m<ipython-input-263-bec7a5844a98>\u001b[0m in \u001b[0;36m<module>\u001b[0;34m\u001b[0m\n\u001b[1;32m      3\u001b[0m \u001b[0;32mwith\u001b[0m \u001b[0mtorch\u001b[0m\u001b[0;34m.\u001b[0m\u001b[0mno_grad\u001b[0m\u001b[0;34m(\u001b[0m\u001b[0;34m)\u001b[0m\u001b[0;34m:\u001b[0m\u001b[0;34m\u001b[0m\u001b[0;34m\u001b[0m\u001b[0m\n\u001b[1;32m      4\u001b[0m     \u001b[0;32mfor\u001b[0m \u001b[0mstidx\u001b[0m \u001b[0;32min\u001b[0m \u001b[0mrange\u001b[0m\u001b[0;34m(\u001b[0m\u001b[0;36m0\u001b[0m\u001b[0;34m,\u001b[0m \u001b[0;36m256\u001b[0m\u001b[0;34m,\u001b[0m \u001b[0mbatch_size\u001b[0m\u001b[0;34m)\u001b[0m\u001b[0;34m:\u001b[0m\u001b[0;34m\u001b[0m\u001b[0;34m\u001b[0m\u001b[0m\n\u001b[0;32m----> 5\u001b[0;31m         \u001b[0mX\u001b[0m \u001b[0;34m=\u001b[0m \u001b[0mX_test_tokens\u001b[0m\u001b[0;34m[\u001b[0m\u001b[0mstidx\u001b[0m\u001b[0;34m:\u001b[0m\u001b[0mstidx\u001b[0m \u001b[0;34m+\u001b[0m \u001b[0mbatch_size\u001b[0m\u001b[0;34m]\u001b[0m\u001b[0;34m\u001b[0m\u001b[0;34m\u001b[0m\u001b[0m\n\u001b[0m\u001b[1;32m      6\u001b[0m         \u001b[0mX\u001b[0m \u001b[0;34m=\u001b[0m \u001b[0mtorch\u001b[0m\u001b[0;34m.\u001b[0m\u001b[0mLongTensor\u001b[0m\u001b[0;34m(\u001b[0m\u001b[0mX\u001b[0m\u001b[0;34m)\u001b[0m\u001b[0;34m.\u001b[0m\u001b[0mcuda\u001b[0m\u001b[0;34m(\u001b[0m\u001b[0;34m)\u001b[0m\u001b[0;34m\u001b[0m\u001b[0;34m\u001b[0m\u001b[0m\n\u001b[1;32m      7\u001b[0m         \u001b[0m_\u001b[0m\u001b[0;34m,\u001b[0m \u001b[0mpooled_output\u001b[0m \u001b[0;34m=\u001b[0m \u001b[0mbert_model\u001b[0m\u001b[0;34m(\u001b[0m\u001b[0mX\u001b[0m\u001b[0;34m)\u001b[0m\u001b[0;34m\u001b[0m\u001b[0;34m\u001b[0m\u001b[0m\n",
      "\u001b[0;31mNameError\u001b[0m: name 'X_test_tokens' is not defined"
     ]
    }
   ],
   "source": [
    "batch_size = 2\n",
    "results = torch.zeros((256, bert_model.config.hidden_size)).long()\n",
    "with torch.no_grad():\n",
    "    for stidx in range(0, 256, batch_size):\n",
    "        X = X_test_tokens[stidx:stidx + batch_size]\n",
    "        X = torch.LongTensor(X).cuda()\n",
    "        _, pooled_output = bert_model(X)\n",
    "        results[stidx:stidx + batch_size,:] = pooled_output.cpu()\n",
    "\n",
    "bert_model(torch.LongTensor(features[0].input_ids))"
   ]
  },
  {
   "cell_type": "code",
   "execution_count": 320,
   "metadata": {},
   "outputs": [],
   "source": [
    "def read_examples(input_file):\n",
    "    \"\"\"Read a list of `InputExample`s from an input file.\"\"\"\n",
    "    examples = []\n",
    "    unique_id = 0\n",
    "    with open(input_file, \"r\", encoding='utf-8') as reader:\n",
    "        while True:\n",
    "            line = reader.readline()\n",
    "            if not line:\n",
    "                break\n",
    "            line = line.strip()\n",
    "            text_a = None\n",
    "            text_b = None\n",
    "            m = re.match(r\"^(.*) \\|\\|\\| (.*)$\", line)\n",
    "            if m is None:\n",
    "                text_a = line\n",
    "            else:\n",
    "                text_a = m.group(1)\n",
    "                text_b = m.group(2)\n",
    "            examples.append(\n",
    "                InputExample(unique_id=unique_id, text_a=text_a, text_b=text_b))\n",
    "            unique_id += 1\n",
    "    return examples"
   ]
  },
  {
   "cell_type": "code",
   "execution_count": 270,
   "metadata": {},
   "outputs": [],
   "source": [
    "ex = read_examples('../../brain-tumor/data/TRAIN_SET/ozerki_annotated_not_segmented/brain-text.txt')"
   ]
  },
  {
   "cell_type": "code",
   "execution_count": 274,
   "metadata": {},
   "outputs": [],
   "source": [
    "with open('../../brain-tumor/data/TRAIN_SET/ozerki_annotated_not_segmented/annotations2.txt') as f:\n",
    "    text = f.read()"
   ]
  },
  {
   "cell_type": "code",
   "execution_count": 279,
   "metadata": {},
   "outputs": [],
   "source": [
    "patients = text.split('\\n\\n')"
   ]
  },
  {
   "cell_type": "code",
   "execution_count": 291,
   "metadata": {},
   "outputs": [],
   "source": [
    "for i, patient in enumerate(patients):\n",
    "    patients[i] = patient.replace('\\n', ' ')"
   ]
  },
  {
   "cell_type": "code",
   "execution_count": 293,
   "metadata": {},
   "outputs": [
    {
     "data": {
      "text/plain": [
       "'On MR images of the sub-and supratentorial structures of the brain, supplemented by intravenous contrast (Gadovist 10 ml) obtained the following data: - in the substance of the brain, numerous formations of specific genesis in both hemispheres of the brain were revealed: - at least 7 in the left big hemisphere - from 2mm to 4.5mm diameter - at least 4 in the right big hemisphere from 2mm to 8x7mm in the supratentorial parts of the frontal-parietal region, 14x17mm in the basal parts of the temporal lobe \\xa0- in the left hemisphere of the cerebellum, two formations 9x7.5mm and 9.2x8.3mm \\xa0Peritumorous edema is noted around the largest foci, the structure of the larger formations is heterogeneous due to the central cystic areas (decay). The total number of lesions is not less than 13. - at the level of the basal nuclei, the seven oval centers, there are enlarged perivascular spaces along the penetrating vessels. The median structures are not displaced. The ventricular system is not expanded. Lateral ventricles are asymmetric D> S, not expanded - the subarachnoid space is slightly expanded. Brain stem structures without features. The tonsils of the cerebellum are 5mm below the level of the large occipital foramen.'"
      ]
     },
     "execution_count": 293,
     "metadata": {},
     "output_type": "execute_result"
    }
   ],
   "source": [
    "patients[0]"
   ]
  },
  {
   "cell_type": "code",
   "execution_count": 311,
   "metadata": {},
   "outputs": [],
   "source": [
    "with open('annotations3.txt', 'w') as f:\n",
    "    for item in patients:\n",
    "        f.write('%s\\n' % item)"
   ]
  },
  {
   "cell_type": "code",
   "execution_count": 312,
   "metadata": {},
   "outputs": [
    {
     "data": {
      "text/plain": [
       "10"
      ]
     },
     "execution_count": 312,
     "metadata": {},
     "output_type": "execute_result"
    }
   ],
   "source": [
    "with open('annotations3.txt') as f:\n",
    "    text = f.read()\n",
    "text.split('\\n').__len__()"
   ]
  },
  {
   "cell_type": "code",
   "execution_count": 316,
   "metadata": {},
   "outputs": [
    {
     "data": {
      "text/plain": [
       "9"
      ]
     },
     "execution_count": 316,
     "metadata": {},
     "output_type": "execute_result"
    }
   ],
   "source": [
    "patients.__len__()"
   ]
  },
  {
   "cell_type": "code",
   "execution_count": 322,
   "metadata": {},
   "outputs": [],
   "source": [
    "ex = read_examples('annotations3.txt')"
   ]
  },
  {
   "cell_type": "code",
   "execution_count": 327,
   "metadata": {},
   "outputs": [
    {
     "data": {
      "text/plain": [
       "8"
      ]
     },
     "execution_count": 327,
     "metadata": {},
     "output_type": "execute_result"
    }
   ],
   "source": [
    "ex[8].unique_id"
   ]
  },
  {
   "cell_type": "code",
   "execution_count": 328,
   "metadata": {},
   "outputs": [],
   "source": [
    "import torch"
   ]
  },
  {
   "cell_type": "code",
   "execution_count": 329,
   "metadata": {},
   "outputs": [
    {
     "name": "stdout",
     "output_type": "stream",
     "text": [
      "Python 3.7.3\r\n"
     ]
    }
   ],
   "source": [
    "!python -V"
   ]
  },
  {
   "cell_type": "code",
   "execution_count": 332,
   "metadata": {},
   "outputs": [],
   "source": [
    "import json"
   ]
  },
  {
   "cell_type": "code",
   "execution_count": 334,
   "metadata": {},
   "outputs": [
    {
     "name": "stdout",
     "output_type": "stream",
     "text": [
      "2019-05-25-armavox-initial-experiments.html\r\n",
      "2019-05-25-armavox-initial-experiments.ipynb\r\n",
      "2019-05-25-armavox-initial-experiments.py\r\n",
      "annotations3.txt\r\n"
     ]
    }
   ],
   "source": [
    "!ls"
   ]
  },
  {
   "cell_type": "code",
   "execution_count": 347,
   "metadata": {},
   "outputs": [],
   "source": [
    "inp_ids = torch.LongTensor(features[0].input_ids)\n",
    "inp_mask = torch.LongTensor(features[0].input_mask)"
   ]
  },
  {
   "cell_type": "code",
   "execution_count": 355,
   "metadata": {},
   "outputs": [],
   "source": [
    "from torch.utils.data import TensorDataset, SequentialSampler, DistributedSampler, DataLoader"
   ]
  },
  {
   "cell_type": "code",
   "execution_count": 44,
   "metadata": {},
   "outputs": [
    {
     "ename": "NameError",
     "evalue": "name 'features' is not defined",
     "output_type": "error",
     "traceback": [
      "\u001b[0;31m---------------------------------------------------------------------------\u001b[0m",
      "\u001b[0;31mNameError\u001b[0m                                 Traceback (most recent call last)",
      "\u001b[0;32m<ipython-input-44-79b697579846>\u001b[0m in \u001b[0;36m<module>\u001b[0;34m\u001b[0m\n\u001b[0;32m----> 1\u001b[0;31m \u001b[0mall_input_ids\u001b[0m \u001b[0;34m=\u001b[0m \u001b[0mtorch\u001b[0m\u001b[0;34m.\u001b[0m\u001b[0mtensor\u001b[0m\u001b[0;34m(\u001b[0m\u001b[0;34m[\u001b[0m\u001b[0mf\u001b[0m\u001b[0;34m.\u001b[0m\u001b[0minput_ids\u001b[0m \u001b[0;32mfor\u001b[0m \u001b[0mf\u001b[0m \u001b[0;32min\u001b[0m \u001b[0mfeatures\u001b[0m\u001b[0;34m]\u001b[0m\u001b[0;34m,\u001b[0m \u001b[0mdtype\u001b[0m\u001b[0;34m=\u001b[0m\u001b[0mtorch\u001b[0m\u001b[0;34m.\u001b[0m\u001b[0mlong\u001b[0m\u001b[0;34m)\u001b[0m\u001b[0;34m\u001b[0m\u001b[0;34m\u001b[0m\u001b[0m\n\u001b[0m\u001b[1;32m      2\u001b[0m \u001b[0mall_input_mask\u001b[0m \u001b[0;34m=\u001b[0m \u001b[0mtorch\u001b[0m\u001b[0;34m.\u001b[0m\u001b[0mtensor\u001b[0m\u001b[0;34m(\u001b[0m\u001b[0;34m[\u001b[0m\u001b[0mf\u001b[0m\u001b[0;34m.\u001b[0m\u001b[0minput_mask\u001b[0m \u001b[0;32mfor\u001b[0m \u001b[0mf\u001b[0m \u001b[0;32min\u001b[0m \u001b[0mfeatures\u001b[0m\u001b[0;34m]\u001b[0m\u001b[0;34m,\u001b[0m \u001b[0mdtype\u001b[0m\u001b[0;34m=\u001b[0m\u001b[0mtorch\u001b[0m\u001b[0;34m.\u001b[0m\u001b[0mlong\u001b[0m\u001b[0;34m)\u001b[0m\u001b[0;34m\u001b[0m\u001b[0;34m\u001b[0m\u001b[0m\n\u001b[1;32m      3\u001b[0m \u001b[0mall_example_index\u001b[0m \u001b[0;34m=\u001b[0m \u001b[0mtorch\u001b[0m\u001b[0;34m.\u001b[0m\u001b[0marange\u001b[0m\u001b[0;34m(\u001b[0m\u001b[0mall_input_ids\u001b[0m\u001b[0;34m.\u001b[0m\u001b[0msize\u001b[0m\u001b[0;34m(\u001b[0m\u001b[0;36m0\u001b[0m\u001b[0;34m)\u001b[0m\u001b[0;34m,\u001b[0m \u001b[0mdtype\u001b[0m\u001b[0;34m=\u001b[0m\u001b[0mtorch\u001b[0m\u001b[0;34m.\u001b[0m\u001b[0mlong\u001b[0m\u001b[0;34m)\u001b[0m\u001b[0;34m\u001b[0m\u001b[0;34m\u001b[0m\u001b[0m\n\u001b[1;32m      4\u001b[0m \u001b[0;34m\u001b[0m\u001b[0m\n\u001b[1;32m      5\u001b[0m \u001b[0meval_data\u001b[0m \u001b[0;34m=\u001b[0m \u001b[0mTensorDataset\u001b[0m\u001b[0;34m(\u001b[0m\u001b[0mall_input_ids\u001b[0m\u001b[0;34m,\u001b[0m \u001b[0mall_input_mask\u001b[0m\u001b[0;34m,\u001b[0m \u001b[0mall_example_index\u001b[0m\u001b[0;34m)\u001b[0m\u001b[0;34m\u001b[0m\u001b[0;34m\u001b[0m\u001b[0m\n",
      "\u001b[0;31mNameError\u001b[0m: name 'features' is not defined"
     ]
    }
   ],
   "source": [
    "all_input_ids = torch.tensor([f.input_ids for f in features], dtype=torch.long)\n",
    "all_input_mask = torch.tensor([f.input_mask for f in features], dtype=torch.long)\n",
    "all_example_index = torch.arange(all_input_ids.size(0), dtype=torch.long)\n",
    "\n",
    "eval_data = TensorDataset(all_input_ids, all_input_mask, all_example_index)\n",
    "if -1 == -1:\n",
    "    eval_sampler = SequentialSampler(eval_data)\n",
    "else:\n",
    "    eval_sampler = DistributedSampler(eval_data)\n",
    "eval_dataloader = DataLoader(eval_data, sampler=eval_sampler, batch_size=1)"
   ]
  },
  {
   "cell_type": "code",
   "execution_count": 556,
   "metadata": {
    "scrolled": false
   },
   "outputs": [],
   "source": [
    "with torch.no_grad():\n",
    "    emb_dataset = []\n",
    "    for inp_id, inp_mask, ex_index in eval_dataloader:\n",
    "        layers, _ = bert_model(inp_id, token_type_ids=None, attention_mask=inp_mask)\n",
    "        stack_last_4_layers = torch.stack(layers[-4:])\n",
    "        embedding = torch.sum(stack_last_4_layers, dim=0)\n",
    "        emb_dataset.append(embedding)\n",
    "    dataset = TensorDataset(torch.cat(emb_dataset, dim=0))"
   ]
  },
  {
   "cell_type": "code",
   "execution_count": 557,
   "metadata": {},
   "outputs": [
    {
     "data": {
      "text/plain": [
       "(tensor([[-1.0425, -2.4814, -1.8390,  ..., -0.5512, -0.4835,  1.5930],\n",
       "         [ 1.0903,  1.1847,  1.3407,  ..., -3.5326,  2.3582,  0.8856],\n",
       "         [ 0.9706, -2.7299,  2.1926,  ..., -2.4728,  1.5163,  1.4311],\n",
       "         ...,\n",
       "         [ 1.5891, -2.0211,  0.3038,  ..., -0.6105, -0.1159,  1.4353],\n",
       "         [-3.7915, -0.1638,  1.0181,  ...,  0.8057, -2.2369,  0.0546],\n",
       "         [-2.3669, -1.2402,  1.7978,  ...,  0.3479, -1.4650, -1.1721]]),)"
      ]
     },
     "execution_count": 557,
     "metadata": {},
     "output_type": "execute_result"
    }
   ],
   "source": [
    "dataset[0]"
   ]
  },
  {
   "cell_type": "code",
   "execution_count": 552,
   "metadata": {},
   "outputs": [
    {
     "data": {
      "text/plain": [
       "(tensor([[-1.0425, -2.4814, -1.8390,  ..., -0.5512, -0.4835,  1.5930],\n",
       "         [ 1.0903,  1.1847,  1.3407,  ..., -3.5326,  2.3582,  0.8856],\n",
       "         [ 0.9706, -2.7299,  2.1926,  ..., -2.4728,  1.5163,  1.4311],\n",
       "         ...,\n",
       "         [ 1.5891, -2.0211,  0.3038,  ..., -0.6105, -0.1159,  1.4353],\n",
       "         [-3.7915, -0.1638,  1.0181,  ...,  0.8057, -2.2369,  0.0546],\n",
       "         [-2.3669, -1.2402,  1.7978,  ...,  0.3479, -1.4650, -1.1721]]),)"
      ]
     },
     "execution_count": 552,
     "metadata": {},
     "output_type": "execute_result"
    }
   ],
   "source": [
    "TensorDataset(torch.cat(emb_dataset, dim=0))[0]"
   ]
  },
  {
   "cell_type": "code",
   "execution_count": 374,
   "metadata": {},
   "outputs": [
    {
     "data": {
      "text/plain": [
       "torch.Size([3, 768])"
      ]
     },
     "execution_count": 374,
     "metadata": {},
     "output_type": "execute_result"
    }
   ],
   "source": [
    "_.shape"
   ]
  },
  {
   "cell_type": "code",
   "execution_count": 382,
   "metadata": {},
   "outputs": [
    {
     "data": {
      "text/plain": [
       "(tensor([  101,  2006,  2720,  4871,  1997,  1996,  4942,  1011,  1998, 10514,\n",
       "         18098,  3686, 13663, 14482,  5090,  1997,  1996,  4167,  1010, 20585,\n",
       "          2011, 26721,  8159,  3560,  5688,  1006, 11721,  3527, 11365,  2102,\n",
       "          2184, 19875,  1007,  4663,  1996,  2206,  2951,  1024,  1999,  1996,\n",
       "          4167,  9415,  3365, 13197,  1997,  3563, 11046,  1999,  2119, 14130,\n",
       "          2015,  1997,  1996,  4167,  2020,  3936,  1024,  2012,  2560,  1021,\n",
       "          1999,  1996,  2187, 14130,  1011,  2013,  1016,  7382,  2000,  1018,\n",
       "          1012,  1019,  7382,  1999,  6705,  1025,  2012,  2560,  1018,  1999,\n",
       "          1996,  2157, 18439, 14130,  2013,  1016,  7382,  2000,  1022,  2595,\n",
       "          2581,  7382,  1999,  1996, 10514, 18098,  3686, 13663, 14482,  4655,\n",
       "          1997,  1996, 19124,  1011, 11968,  2666,  9080,  2555,  1010,  2403,\n",
       "          2595, 16576,  7382,  1999,  1996, 15191,  4655,  1997,  1996, 15850,\n",
       "         21833,  1025,  1999,  1996,  2187, 14130,  1997,  1996,  8292,  2890,\n",
       "         17327,  2819,  2048, 13197,  1023,  2595,  2581,  1012,  1019,  7382,\n",
       "          1998,  1023,  1012,  1016,  2595,  2620,  1012,  1017,  7382,   102,\n",
       "             0,     0,     0,     0,     0,     0,     0,     0,     0,     0,\n",
       "             0,     0,     0,     0,     0,     0,     0,     0,     0,     0,\n",
       "             0,     0,     0,     0,     0,     0,     0,     0,     0,     0,\n",
       "             0,     0,     0,     0,     0,     0,     0,     0,     0,     0,\n",
       "             0,     0,     0,     0,     0,     0,     0,     0,     0,     0,\n",
       "             0,     0,     0,     0,     0,     0,     0,     0,     0,     0,\n",
       "             0,     0,     0,     0,     0,     0,     0,     0,     0,     0,\n",
       "             0,     0,     0,     0,     0,     0,     0,     0,     0,     0,\n",
       "             0,     0,     0,     0,     0,     0,     0,     0,     0,     0,\n",
       "             0,     0,     0,     0,     0,     0,     0,     0,     0,     0,\n",
       "             0,     0,     0,     0,     0,     0]),\n",
       " tensor([1, 1, 1, 1, 1, 1, 1, 1, 1, 1, 1, 1, 1, 1, 1, 1, 1, 1, 1, 1, 1, 1, 1, 1,\n",
       "         1, 1, 1, 1, 1, 1, 1, 1, 1, 1, 1, 1, 1, 1, 1, 1, 1, 1, 1, 1, 1, 1, 1, 1,\n",
       "         1, 1, 1, 1, 1, 1, 1, 1, 1, 1, 1, 1, 1, 1, 1, 1, 1, 1, 1, 1, 1, 1, 1, 1,\n",
       "         1, 1, 1, 1, 1, 1, 1, 1, 1, 1, 1, 1, 1, 1, 1, 1, 1, 1, 1, 1, 1, 1, 1, 1,\n",
       "         1, 1, 1, 1, 1, 1, 1, 1, 1, 1, 1, 1, 1, 1, 1, 1, 1, 1, 1, 1, 1, 1, 1, 1,\n",
       "         1, 1, 1, 1, 1, 1, 1, 1, 1, 1, 1, 1, 1, 1, 1, 1, 1, 1, 1, 1, 1, 1, 1, 1,\n",
       "         1, 1, 1, 1, 1, 1, 0, 0, 0, 0, 0, 0, 0, 0, 0, 0, 0, 0, 0, 0, 0, 0, 0, 0,\n",
       "         0, 0, 0, 0, 0, 0, 0, 0, 0, 0, 0, 0, 0, 0, 0, 0, 0, 0, 0, 0, 0, 0, 0, 0,\n",
       "         0, 0, 0, 0, 0, 0, 0, 0, 0, 0, 0, 0, 0, 0, 0, 0, 0, 0, 0, 0, 0, 0, 0, 0,\n",
       "         0, 0, 0, 0, 0, 0, 0, 0, 0, 0, 0, 0, 0, 0, 0, 0, 0, 0, 0, 0, 0, 0, 0, 0,\n",
       "         0, 0, 0, 0, 0, 0, 0, 0, 0, 0, 0, 0, 0, 0, 0, 0]),\n",
       " tensor(0))"
      ]
     },
     "execution_count": 382,
     "metadata": {},
     "output_type": "execute_result"
    }
   ],
   "source": [
    "eval_data[0]"
   ]
  },
  {
   "cell_type": "code",
   "execution_count": 390,
   "metadata": {},
   "outputs": [
    {
     "data": {
      "text/plain": [
       "[tensor([[  101,  2006,  1037,  2186,  1997,  2363, 27011,  3419,  8649,  6444,\n",
       "           2015,  1997,  1996,  4167,  2007, 26721,  8159,  3560, 22133,  1006,\n",
       "          11721,  3527, 11365,  2102,  1021,  1012,  1019, 19875,  1007,  1999,\n",
       "           2093,  9738,  1010,  4942,  1011,  1998,  4469, 15338, 11069,  2140,\n",
       "           5090,  2020,  5107,  3550,  1012,  4102,  2007,  1996,  2720,  1011,\n",
       "           2817,  1997,  5757,  1013,  2538,  1013,  2760,  1024,  1996,  3130,\n",
       "           5071,  4649,  3258,  1999,  1996,  2157, 19124, 21833,  2003,  2025,\n",
       "           5107,  3550,  1011,  1996,  4358,  4649,  3258,  1999,  1996,  2187,\n",
       "          19124, 21833,  3445,  1999,  2946,  2000,  1018,  1012,  1023,  2595,\n",
       "           2509,  1012,  1016,  7382,  1006,  3130,  1016,  2595,  2487,  7382,\n",
       "           1007,  1011, 10047, 14526,  2575,  1037,  2415,  2596,  1999,  1996,\n",
       "           2187,  1051, 14693, 23270,  2389, 21833, 10047,  2683,  2581,  2000,\n",
       "           1017,  1012,  1021,  1035,  1017,  1012,  1019,  7382,  2415,  1999,\n",
       "           1996,  2157, 14130,  1997,  1996,  8292,  2890, 17327,  2819,  2007,\n",
       "           9646,  2039,  2000,  1020,  1012,  1019,  2595,  2549,  1012,  1019,\n",
       "           7382,  3041,  1018,  1012,  1019,  1035,  1018,  1012,  1014,  3461,\n",
       "           1007, 10047, 22025, 11047,  2015,  1042, 10085,  2072,  1999,  1996,\n",
       "           2187, 15850,  2555,  2039,  2000,  2340,  2595,  2629,  1012,  1022,\n",
       "           7382,  1006,  3130,  1023,  1012,  1020,  2595,  2581,  1012,  1017,\n",
       "           7382,  1007, 10047,  3438,  1998,  2157, 16021,  7934,  1017,  1012,\n",
       "           1016,  2595,  2475,  1012,  1018,  7382,  1006,  1027,  1007, 10047,\n",
       "           6640,  1012,  1996,  4195,  1997,  1037,  4649,  3258,  1999,  1996,\n",
       "           2522, 28228,  9289,  4655,  1997,  1996,  2157, 15850, 21833,  3685,\n",
       "           2022,  5451,  2041,  1011,  2039,  2000,  1017,  3461, 10047,  5388,\n",
       "           1012,  1999,  1996,  4942, 27108, 14656,  4655,  1997,  1996, 19124,\n",
       "           1998, 11968,  2666,  9080, 24423,   102]]),\n",
       " tensor([[1, 1, 1, 1, 1, 1, 1, 1, 1, 1, 1, 1, 1, 1, 1, 1, 1, 1, 1, 1, 1, 1, 1, 1,\n",
       "          1, 1, 1, 1, 1, 1, 1, 1, 1, 1, 1, 1, 1, 1, 1, 1, 1, 1, 1, 1, 1, 1, 1, 1,\n",
       "          1, 1, 1, 1, 1, 1, 1, 1, 1, 1, 1, 1, 1, 1, 1, 1, 1, 1, 1, 1, 1, 1, 1, 1,\n",
       "          1, 1, 1, 1, 1, 1, 1, 1, 1, 1, 1, 1, 1, 1, 1, 1, 1, 1, 1, 1, 1, 1, 1, 1,\n",
       "          1, 1, 1, 1, 1, 1, 1, 1, 1, 1, 1, 1, 1, 1, 1, 1, 1, 1, 1, 1, 1, 1, 1, 1,\n",
       "          1, 1, 1, 1, 1, 1, 1, 1, 1, 1, 1, 1, 1, 1, 1, 1, 1, 1, 1, 1, 1, 1, 1, 1,\n",
       "          1, 1, 1, 1, 1, 1, 1, 1, 1, 1, 1, 1, 1, 1, 1, 1, 1, 1, 1, 1, 1, 1, 1, 1,\n",
       "          1, 1, 1, 1, 1, 1, 1, 1, 1, 1, 1, 1, 1, 1, 1, 1, 1, 1, 1, 1, 1, 1, 1, 1,\n",
       "          1, 1, 1, 1, 1, 1, 1, 1, 1, 1, 1, 1, 1, 1, 1, 1, 1, 1, 1, 1, 1, 1, 1, 1,\n",
       "          1, 1, 1, 1, 1, 1, 1, 1, 1, 1, 1, 1, 1, 1, 1, 1, 1, 1, 1, 1, 1, 1, 1, 1,\n",
       "          1, 1, 1, 1, 1, 1, 1, 1, 1, 1, 1, 1, 1, 1, 1, 1]]),\n",
       " tensor([8])]"
      ]
     },
     "execution_count": 390,
     "metadata": {},
     "output_type": "execute_result"
    }
   ],
   "source": [
    "list(iter(eval_dataloader))[-1]"
   ]
  },
  {
   "cell_type": "code",
   "execution_count": 410,
   "metadata": {},
   "outputs": [
    {
     "data": {
      "text/plain": [
       "torch.Size([9, 1, 256])"
      ]
     },
     "execution_count": 410,
     "metadata": {},
     "output_type": "execute_result"
    }
   ],
   "source": [
    "torch.tensor(\n",
    "            [f.input_ids for f in features], dtype=torch.long\n",
    "        ).unsqueeze(1).shape"
   ]
  },
  {
   "cell_type": "code",
   "execution_count": 398,
   "metadata": {},
   "outputs": [
    {
     "ename": "IndexError",
     "evalue": "Dimension out of range (expected to be in range of [-1, 0], but got 1)",
     "output_type": "error",
     "traceback": [
      "\u001b[0;31m---------------------------------------------------------------------------\u001b[0m",
      "\u001b[0;31mIndexError\u001b[0m                                Traceback (most recent call last)",
      "\u001b[0;32m<ipython-input-398-d87831ffb36a>\u001b[0m in \u001b[0;36m<module>\u001b[0;34m\u001b[0m\n\u001b[0;32m----> 1\u001b[0;31m \u001b[0mbert_model\u001b[0m\u001b[0;34m(\u001b[0m\u001b[0minp_ind\u001b[0m\u001b[0;34m,\u001b[0m \u001b[0mtoken_type_ids\u001b[0m\u001b[0;34m=\u001b[0m\u001b[0;32mNone\u001b[0m\u001b[0;34m,\u001b[0m \u001b[0mattention_mask\u001b[0m\u001b[0;34m=\u001b[0m\u001b[0minp_mask\u001b[0m\u001b[0;34m)\u001b[0m\u001b[0;34m\u001b[0m\u001b[0;34m\u001b[0m\u001b[0m\n\u001b[0m",
      "\u001b[0;32m~/miniconda3/envs/brain-texts/lib/python3.7/site-packages/torch/nn/modules/module.py\u001b[0m in \u001b[0;36m__call__\u001b[0;34m(self, *input, **kwargs)\u001b[0m\n\u001b[1;32m    491\u001b[0m             \u001b[0mresult\u001b[0m \u001b[0;34m=\u001b[0m \u001b[0mself\u001b[0m\u001b[0;34m.\u001b[0m\u001b[0m_slow_forward\u001b[0m\u001b[0;34m(\u001b[0m\u001b[0;34m*\u001b[0m\u001b[0minput\u001b[0m\u001b[0;34m,\u001b[0m \u001b[0;34m**\u001b[0m\u001b[0mkwargs\u001b[0m\u001b[0;34m)\u001b[0m\u001b[0;34m\u001b[0m\u001b[0;34m\u001b[0m\u001b[0m\n\u001b[1;32m    492\u001b[0m         \u001b[0;32melse\u001b[0m\u001b[0;34m:\u001b[0m\u001b[0;34m\u001b[0m\u001b[0;34m\u001b[0m\u001b[0m\n\u001b[0;32m--> 493\u001b[0;31m             \u001b[0mresult\u001b[0m \u001b[0;34m=\u001b[0m \u001b[0mself\u001b[0m\u001b[0;34m.\u001b[0m\u001b[0mforward\u001b[0m\u001b[0;34m(\u001b[0m\u001b[0;34m*\u001b[0m\u001b[0minput\u001b[0m\u001b[0;34m,\u001b[0m \u001b[0;34m**\u001b[0m\u001b[0mkwargs\u001b[0m\u001b[0;34m)\u001b[0m\u001b[0;34m\u001b[0m\u001b[0;34m\u001b[0m\u001b[0m\n\u001b[0m\u001b[1;32m    494\u001b[0m         \u001b[0;32mfor\u001b[0m \u001b[0mhook\u001b[0m \u001b[0;32min\u001b[0m \u001b[0mself\u001b[0m\u001b[0;34m.\u001b[0m\u001b[0m_forward_hooks\u001b[0m\u001b[0;34m.\u001b[0m\u001b[0mvalues\u001b[0m\u001b[0;34m(\u001b[0m\u001b[0;34m)\u001b[0m\u001b[0;34m:\u001b[0m\u001b[0;34m\u001b[0m\u001b[0;34m\u001b[0m\u001b[0m\n\u001b[1;32m    495\u001b[0m             \u001b[0mhook_result\u001b[0m \u001b[0;34m=\u001b[0m \u001b[0mhook\u001b[0m\u001b[0;34m(\u001b[0m\u001b[0mself\u001b[0m\u001b[0;34m,\u001b[0m \u001b[0minput\u001b[0m\u001b[0;34m,\u001b[0m \u001b[0mresult\u001b[0m\u001b[0;34m)\u001b[0m\u001b[0;34m\u001b[0m\u001b[0;34m\u001b[0m\u001b[0m\n",
      "\u001b[0;32m~/miniconda3/envs/brain-texts/lib/python3.7/site-packages/pytorch_pretrained_bert/modeling.py\u001b[0m in \u001b[0;36mforward\u001b[0;34m(self, input_ids, token_type_ids, attention_mask, output_all_encoded_layers)\u001b[0m\n\u001b[1;32m    728\u001b[0m         \u001b[0mextended_attention_mask\u001b[0m \u001b[0;34m=\u001b[0m \u001b[0;34m(\u001b[0m\u001b[0;36m1.0\u001b[0m \u001b[0;34m-\u001b[0m \u001b[0mextended_attention_mask\u001b[0m\u001b[0;34m)\u001b[0m \u001b[0;34m*\u001b[0m \u001b[0;34m-\u001b[0m\u001b[0;36m10000.0\u001b[0m\u001b[0;34m\u001b[0m\u001b[0;34m\u001b[0m\u001b[0m\n\u001b[1;32m    729\u001b[0m \u001b[0;34m\u001b[0m\u001b[0m\n\u001b[0;32m--> 730\u001b[0;31m         \u001b[0membedding_output\u001b[0m \u001b[0;34m=\u001b[0m \u001b[0mself\u001b[0m\u001b[0;34m.\u001b[0m\u001b[0membeddings\u001b[0m\u001b[0;34m(\u001b[0m\u001b[0minput_ids\u001b[0m\u001b[0;34m,\u001b[0m \u001b[0mtoken_type_ids\u001b[0m\u001b[0;34m)\u001b[0m\u001b[0;34m\u001b[0m\u001b[0;34m\u001b[0m\u001b[0m\n\u001b[0m\u001b[1;32m    731\u001b[0m         encoded_layers = self.encoder(embedding_output,\n\u001b[1;32m    732\u001b[0m                                       \u001b[0mextended_attention_mask\u001b[0m\u001b[0;34m,\u001b[0m\u001b[0;34m\u001b[0m\u001b[0;34m\u001b[0m\u001b[0m\n",
      "\u001b[0;32m~/miniconda3/envs/brain-texts/lib/python3.7/site-packages/torch/nn/modules/module.py\u001b[0m in \u001b[0;36m__call__\u001b[0;34m(self, *input, **kwargs)\u001b[0m\n\u001b[1;32m    491\u001b[0m             \u001b[0mresult\u001b[0m \u001b[0;34m=\u001b[0m \u001b[0mself\u001b[0m\u001b[0;34m.\u001b[0m\u001b[0m_slow_forward\u001b[0m\u001b[0;34m(\u001b[0m\u001b[0;34m*\u001b[0m\u001b[0minput\u001b[0m\u001b[0;34m,\u001b[0m \u001b[0;34m**\u001b[0m\u001b[0mkwargs\u001b[0m\u001b[0;34m)\u001b[0m\u001b[0;34m\u001b[0m\u001b[0;34m\u001b[0m\u001b[0m\n\u001b[1;32m    492\u001b[0m         \u001b[0;32melse\u001b[0m\u001b[0;34m:\u001b[0m\u001b[0;34m\u001b[0m\u001b[0;34m\u001b[0m\u001b[0m\n\u001b[0;32m--> 493\u001b[0;31m             \u001b[0mresult\u001b[0m \u001b[0;34m=\u001b[0m \u001b[0mself\u001b[0m\u001b[0;34m.\u001b[0m\u001b[0mforward\u001b[0m\u001b[0;34m(\u001b[0m\u001b[0;34m*\u001b[0m\u001b[0minput\u001b[0m\u001b[0;34m,\u001b[0m \u001b[0;34m**\u001b[0m\u001b[0mkwargs\u001b[0m\u001b[0;34m)\u001b[0m\u001b[0;34m\u001b[0m\u001b[0;34m\u001b[0m\u001b[0m\n\u001b[0m\u001b[1;32m    494\u001b[0m         \u001b[0;32mfor\u001b[0m \u001b[0mhook\u001b[0m \u001b[0;32min\u001b[0m \u001b[0mself\u001b[0m\u001b[0;34m.\u001b[0m\u001b[0m_forward_hooks\u001b[0m\u001b[0;34m.\u001b[0m\u001b[0mvalues\u001b[0m\u001b[0;34m(\u001b[0m\u001b[0;34m)\u001b[0m\u001b[0;34m:\u001b[0m\u001b[0;34m\u001b[0m\u001b[0;34m\u001b[0m\u001b[0m\n\u001b[1;32m    495\u001b[0m             \u001b[0mhook_result\u001b[0m \u001b[0;34m=\u001b[0m \u001b[0mhook\u001b[0m\u001b[0;34m(\u001b[0m\u001b[0mself\u001b[0m\u001b[0;34m,\u001b[0m \u001b[0minput\u001b[0m\u001b[0;34m,\u001b[0m \u001b[0mresult\u001b[0m\u001b[0;34m)\u001b[0m\u001b[0;34m\u001b[0m\u001b[0;34m\u001b[0m\u001b[0m\n",
      "\u001b[0;32m~/miniconda3/envs/brain-texts/lib/python3.7/site-packages/pytorch_pretrained_bert/modeling.py\u001b[0m in \u001b[0;36mforward\u001b[0;34m(self, input_ids, token_type_ids)\u001b[0m\n\u001b[1;32m    259\u001b[0m \u001b[0;34m\u001b[0m\u001b[0m\n\u001b[1;32m    260\u001b[0m     \u001b[0;32mdef\u001b[0m \u001b[0mforward\u001b[0m\u001b[0;34m(\u001b[0m\u001b[0mself\u001b[0m\u001b[0;34m,\u001b[0m \u001b[0minput_ids\u001b[0m\u001b[0;34m,\u001b[0m \u001b[0mtoken_type_ids\u001b[0m\u001b[0;34m=\u001b[0m\u001b[0;32mNone\u001b[0m\u001b[0;34m)\u001b[0m\u001b[0;34m:\u001b[0m\u001b[0;34m\u001b[0m\u001b[0;34m\u001b[0m\u001b[0m\n\u001b[0;32m--> 261\u001b[0;31m         \u001b[0mseq_length\u001b[0m \u001b[0;34m=\u001b[0m \u001b[0minput_ids\u001b[0m\u001b[0;34m.\u001b[0m\u001b[0msize\u001b[0m\u001b[0;34m(\u001b[0m\u001b[0;36m1\u001b[0m\u001b[0;34m)\u001b[0m\u001b[0;34m\u001b[0m\u001b[0;34m\u001b[0m\u001b[0m\n\u001b[0m\u001b[1;32m    262\u001b[0m         \u001b[0mposition_ids\u001b[0m \u001b[0;34m=\u001b[0m \u001b[0mtorch\u001b[0m\u001b[0;34m.\u001b[0m\u001b[0marange\u001b[0m\u001b[0;34m(\u001b[0m\u001b[0mseq_length\u001b[0m\u001b[0;34m,\u001b[0m \u001b[0mdtype\u001b[0m\u001b[0;34m=\u001b[0m\u001b[0mtorch\u001b[0m\u001b[0;34m.\u001b[0m\u001b[0mlong\u001b[0m\u001b[0;34m,\u001b[0m \u001b[0mdevice\u001b[0m\u001b[0;34m=\u001b[0m\u001b[0minput_ids\u001b[0m\u001b[0;34m.\u001b[0m\u001b[0mdevice\u001b[0m\u001b[0;34m)\u001b[0m\u001b[0;34m\u001b[0m\u001b[0;34m\u001b[0m\u001b[0m\n\u001b[1;32m    263\u001b[0m         \u001b[0mposition_ids\u001b[0m \u001b[0;34m=\u001b[0m \u001b[0mposition_ids\u001b[0m\u001b[0;34m.\u001b[0m\u001b[0munsqueeze\u001b[0m\u001b[0;34m(\u001b[0m\u001b[0;36m0\u001b[0m\u001b[0;34m)\u001b[0m\u001b[0;34m.\u001b[0m\u001b[0mexpand_as\u001b[0m\u001b[0;34m(\u001b[0m\u001b[0minput_ids\u001b[0m\u001b[0;34m)\u001b[0m\u001b[0;34m\u001b[0m\u001b[0;34m\u001b[0m\u001b[0m\n",
      "\u001b[0;31mIndexError\u001b[0m: Dimension out of range (expected to be in range of [-1, 0], but got 1)"
     ]
    }
   ],
   "source": [
    "bert_model(inp_ind, token_type_ids=None, attention_mask=inp_mask)"
   ]
  },
  {
   "cell_type": "code",
   "execution_count": 404,
   "metadata": {},
   "outputs": [
    {
     "data": {
      "text/plain": [
       "torch.Size([1, 256])"
      ]
     },
     "execution_count": 404,
     "metadata": {},
     "output_type": "execute_result"
    }
   ],
   "source": [
    "list(iter(eval_dataloader))[-1][0].shape"
   ]
  },
  {
   "cell_type": "code",
   "execution_count": 405,
   "metadata": {},
   "outputs": [
    {
     "data": {
      "text/plain": [
       "torch.Size([256])"
      ]
     },
     "execution_count": 405,
     "metadata": {},
     "output_type": "execute_result"
    }
   ],
   "source": [
    "list(eval_data[-1])[0].shape"
   ]
  },
  {
   "cell_type": "code",
   "execution_count": 420,
   "metadata": {},
   "outputs": [],
   "source": [
    "def read_examples(input_file):\n",
    "    \"\"\"Read a list of `InputExample`s from an input file.\"\"\"\n",
    "    examples = []\n",
    "    unique_id = 0\n",
    "    with open(input_file, \"r\", encoding='utf-8') as reader:\n",
    "        while True:\n",
    "            line = reader.readline()\n",
    "            if not line:\n",
    "                break\n",
    "            line = line.strip()\n",
    "            text_a = None\n",
    "            text_b = None\n",
    "            m = re.match(r\"^(.*) \\|\\|\\| (.*)$\", line)\n",
    "            if m is None:\n",
    "                text_a = line\n",
    "            else:\n",
    "                text_a = m.group(1)\n",
    "                text_b = m.group(2)\n",
    "            examples.append(\n",
    "                InputExample(unique_id=unique_id, text_a=text_a, text_b=text_b))\n",
    "            unique_id += 1\n",
    "    return examples"
   ]
  },
  {
   "cell_type": "code",
   "execution_count": 423,
   "metadata": {},
   "outputs": [
    {
     "data": {
      "text/plain": [
       "On a series of obtained MRI tomograms of the brain with iv contrasting (Gadovist 7.5 ml), sub- and supratentorial structures were visualized in three planes. Compared with the MR-study of 06/21/2018: - the previously assumed lesion in the right frontal lobe is not visualized - estimated focus in the left frontal lobe - increased in size to 4.9x3.2mm (previously 2x1mm) - Im116 - A focus appeared in the left occipital lobe Im97 to 3.7x3.5mm - focus in the right hemisphere of the cerebellum with dimensions up to 6.5x4.5mm (previously 4.5x4.0 mm) Im38 . - mts foci in the left temporal region up to 11x5.8mm (previously 9.6x7.3mm) Im 60 and right insular 3.2x2.4mm (=) Im 83. The formation of a lesion in the cortical regions of the right temporal lobe cannot be excluded - up to 3 mm Im 58  In the subcortical regions of the frontal and parietal lobes, isolated foci of a dystrophic nature of 1-2 mm in diameter are noted. The median structures are not displaced. The lateral ventricles of the brain are not dilated, symmetrical (D = S), the third and fourth ventricles are not changed. The subarachnoid spaces of the convex are moderately dilated. The chiasmal sellyarny and craniovertebral areas are not changed. The pituitary gland is not enlarged, the pituitary gland is not displaced. The tonsils of the cerebellum are located at the level of the entrance to the large occipital foramen. The accessory sinuses are not changed."
      ]
     },
     "execution_count": 423,
     "metadata": {},
     "output_type": "execute_result"
    }
   ],
   "source": [
    "read_examples('annotations_eng.txt')[-1]"
   ]
  },
  {
   "cell_type": "code",
   "execution_count": 428,
   "metadata": {},
   "outputs": [],
   "source": [
    "with open('labels.txt') as f:\n",
    "    labels = []\n",
    "    for line in f:\n",
    "        labels.append(float(line.strip('\\n')))"
   ]
  },
  {
   "cell_type": "code",
   "execution_count": 429,
   "metadata": {},
   "outputs": [
    {
     "data": {
      "text/plain": [
       "[13.0, 9.0, 50.0, 5.0, 25.0, 16.0, 8.0, 10.0, 6.0]"
      ]
     },
     "execution_count": 429,
     "metadata": {},
     "output_type": "execute_result"
    }
   ],
   "source": [
    "labels"
   ]
  },
  {
   "cell_type": "code",
   "execution_count": 431,
   "metadata": {},
   "outputs": [
    {
     "data": {
      "text/plain": [
       "(tensor([[ 101, 2006, 2720,  ...,    0,    0,    0],\n",
       "         [ 101, 2006, 2720,  ..., 2039, 2000,  102],\n",
       "         [ 101, 2006, 1996,  ...,    0,    0,    0],\n",
       "         [ 101, 1996, 2206,  ...,    0,    0,    0]]),\n",
       " tensor([[1, 1, 1,  ..., 0, 0, 0],\n",
       "         [1, 1, 1,  ..., 1, 1, 1],\n",
       "         [1, 1, 1,  ..., 0, 0, 0],\n",
       "         [1, 1, 1,  ..., 0, 0, 0]]),\n",
       " tensor([0, 1, 2, 3]))"
      ]
     },
     "execution_count": 431,
     "metadata": {},
     "output_type": "execute_result"
    }
   ],
   "source": [
    "eval_data[:4]"
   ]
  },
  {
   "cell_type": "code",
   "execution_count": 433,
   "metadata": {},
   "outputs": [],
   "source": [
    "from torch.utils.data import Dataset"
   ]
  },
  {
   "cell_type": "code",
   "execution_count": 439,
   "metadata": {},
   "outputs": [],
   "source": [
    "def read_labels(input_file):\n",
    "    with open(input_file) as f:\n",
    "        labels = []\n",
    "        for line in f:\n",
    "            labels.append(float(line.strip('\\n')))\n",
    "        return labels"
   ]
  },
  {
   "cell_type": "code",
   "execution_count": 45,
   "metadata": {},
   "outputs": [],
   "source": [
    "class BertFeaturesDataset(Dataset):\n",
    "    \"\"\"\n",
    "    Parameters\n",
    "    ----------\n",
    "    input_file : str\n",
    "        Path to input file with strings\n",
    "    bert_model : str\n",
    "        Bert pre-trained model selected in the list: bert-base-uncased,\n",
    "        bert-large-uncased, bert-base-cased, bert-base-multilingual,\n",
    "        bert-base-chinese.\n",
    "    \"\"\"\n",
    "    def __init__(self, input_file, labels_file, bert_model, max_seq_length=256):\n",
    "\n",
    "        device = torch.device(\"cuda\" if torch.cuda.is_available() else \"cpu\")\n",
    "        n_gpu = torch.cuda.device_count()\n",
    "\n",
    "        tokenizer = BertTokenizer.from_pretrained(\n",
    "            bert_model, do_lower_case=True\n",
    "        )\n",
    "        examples = read_examples(input_file)\n",
    "        features = convert_examples_to_features(\n",
    "            examples=examples, seq_length=max_seq_length, tokenizer=tokenizer\n",
    "        )\n",
    "\n",
    "        self.model = BertModel.from_pretrained(bert_model)\n",
    "        self.model.to(device)\n",
    "\n",
    "        if n_gpu > 1:\n",
    "            self.model = torch.nn.DataParallel(self.model)\n",
    "\n",
    "        self.all_input_ids = torch.tensor(\n",
    "            [f.input_ids for f in features], dtype=torch.long\n",
    "        )\n",
    "        self.all_input_mask = torch.tensor(\n",
    "            [f.input_mask for f in features], dtype=torch.long\n",
    "        )\n",
    "        self.all_example_index = torch.arange(\n",
    "            self.all_input_ids.size(0), dtype=torch.long\n",
    "        )\n",
    "        self.dataset = TensorDataset(self.all_input_ids,\n",
    "                                     self.all_input_mask,\n",
    "                                     self.all_example_index)\n",
    "        self.labels = read_labels(labels_file)\n",
    "\n",
    "    def __len__(self):\n",
    "        return len(self.dataset)\n",
    "\n",
    "    def __getitem__(self, idx):\n",
    "        return self.dataset[idx], self.labels[idx]"
   ]
  },
  {
   "cell_type": "code",
   "execution_count": 46,
   "metadata": {},
   "outputs": [],
   "source": [
    "bert = BertFeaturesDataset('annotations_eng.txt', 'labels.txt', 'bert-base-uncased')"
   ]
  },
  {
   "cell_type": "code",
   "execution_count": 47,
   "metadata": {},
   "outputs": [],
   "source": [
    "bert_loader = DataLoader(bert, batch_size=1)"
   ]
  },
  {
   "cell_type": "code",
   "execution_count": 51,
   "metadata": {},
   "outputs": [],
   "source": [
    "(inp_id, inp_mask, ex_index), _  = next(iter(bert_loader))"
   ]
  },
  {
   "cell_type": "code",
   "execution_count": 53,
   "metadata": {},
   "outputs": [],
   "source": [
    "model = BertModel.from_pretrained('bert-base-uncased')"
   ]
  },
  {
   "cell_type": "code",
   "execution_count": 55,
   "metadata": {},
   "outputs": [],
   "source": [
    "layers, pool = model(inp_id, token_type_ids=None,attention_mask=inp_mask)"
   ]
  },
  {
   "cell_type": "code",
   "execution_count": 73,
   "metadata": {},
   "outputs": [],
   "source": [
    "t = TensorDataset(torch.stack(layers[-4:]))[0]"
   ]
  },
  {
   "cell_type": "code",
   "execution_count": 74,
   "metadata": {},
   "outputs": [
    {
     "data": {
      "text/plain": [
       "tuple"
      ]
     },
     "execution_count": 74,
     "metadata": {},
     "output_type": "execute_result"
    }
   ],
   "source": [
    "type(t)"
   ]
  },
  {
   "cell_type": "code",
   "execution_count": 43,
   "metadata": {},
   "outputs": [
    {
     "data": {
      "text/plain": [
       "(tensor([[-0.1111, -3.9795,  0.5539,  ..., -0.5093, -0.0370,  2.2630],\n",
       "         [ 0.1307,  3.3981,  2.7187,  ..., -2.5683,  2.2881,  2.3324],\n",
       "         [-0.1444, -2.0087,  2.1238,  ..., -2.7082,  1.6944,  2.0819],\n",
       "         ...,\n",
       "         [-2.5823, -0.0720,  2.4898,  ..., -1.4330, -1.5861, -1.6957],\n",
       "         [-0.8712, -1.5009,  0.1221,  ..., -1.8574,  1.3310, -0.0285],\n",
       "         [ 0.3578,  0.4861,  0.0684,  ...,  0.2164, -0.3041, -0.3666]]),)"
      ]
     },
     "execution_count": 43,
     "metadata": {},
     "output_type": "execute_result"
    }
   ],
   "source": [
    "bert[0][0]"
   ]
  },
  {
   "cell_type": "code",
   "execution_count": 85,
   "metadata": {},
   "outputs": [],
   "source": [
    "# coding=utf-8\n",
    "# Copyright 2018 The Google AI Language Team Authors and The HuggingFace Inc. team.\n",
    "#\n",
    "# Licensed under the Apache License, Version 2.0 (the \"License\");\n",
    "# you may not use this file except in compliance with the License.\n",
    "# You may obtain a copy of the License at\n",
    "#\n",
    "#     http://www.apache.org/licenses/LICENSE-2.0\n",
    "#\n",
    "# Unless required by applicable law or agreed to in writing, software\n",
    "# distributed under the License is distributed on an \"AS IS\" BASIS,\n",
    "# WITHOUT WARRANTIES OR CONDITIONS OF ANY KIND, either express or implied.\n",
    "# See the License for the specific language governing permissions and\n",
    "# limitations under the License.\n",
    "\"\"\"Extract pre-computed feature vectors from a PyTorch BERT model.\"\"\"\n",
    "\n",
    "from __future__ import absolute_import\n",
    "from __future__ import division\n",
    "from __future__ import print_function\n",
    "\n",
    "import argparse\n",
    "import collections\n",
    "import logging\n",
    "import json\n",
    "import re\n",
    "\n",
    "import torch\n",
    "from torch.utils.data import Dataset\n",
    "from torch.utils.data import TensorDataset, DataLoader, SequentialSampler\n",
    "from torch.utils.data.distributed import DistributedSampler\n",
    "\n",
    "from pytorch_pretrained_bert.tokenization import BertTokenizer\n",
    "from pytorch_pretrained_bert.modeling import BertModel\n",
    "\n",
    "\n",
    "class InputExample(object):\n",
    "\n",
    "    def __init__(self, unique_id, text_a, text_b):\n",
    "        self.unique_id = unique_id\n",
    "        self.text_a = text_a\n",
    "        self.text_b = text_b\n",
    "\n",
    "\n",
    "class InputFeatures(object):\n",
    "    \"\"\"A single set of features of data.\"\"\"\n",
    "\n",
    "    def __init__(self, unique_id, tokens, input_ids, input_mask, input_type_ids):\n",
    "        self.unique_id = unique_id\n",
    "        self.tokens = tokens\n",
    "        self.input_ids = input_ids\n",
    "        self.input_mask = input_mask\n",
    "        self.input_type_ids = input_type_ids\n",
    "\n",
    "\n",
    "def convert_examples_to_features(examples, seq_length, tokenizer):\n",
    "    \"\"\"Loads a data file into a list of `InputFeature`s.\"\"\"\n",
    "\n",
    "    features = []\n",
    "    for (ex_index, example) in enumerate(examples):\n",
    "        tokens_a = tokenizer.tokenize(example.text_a)\n",
    "\n",
    "        tokens_b = None\n",
    "        if example.text_b:\n",
    "            tokens_b = tokenizer.tokenize(example.text_b)\n",
    "\n",
    "        if tokens_b:\n",
    "            # Modifies `tokens_a` and `tokens_b` in place so that the total\n",
    "            # length is less than the specified length.\n",
    "            # Account for [CLS], [SEP], [SEP] with \"- 3\"\n",
    "            _truncate_seq_pair(tokens_a, tokens_b, seq_length - 3)\n",
    "        else:\n",
    "            # Account for [CLS] and [SEP] with \"- 2\"\n",
    "            if len(tokens_a) > seq_length - 2:\n",
    "                tokens_a = tokens_a[0:(seq_length - 2)]\n",
    "\n",
    "        # The convention in BERT is:\n",
    "        # (a) For sequence pairs:\n",
    "        #  tokens:   [CLS] is this jack ##son ##ville ? [SEP] no it is not . [SEP]\n",
    "        #  type_ids:   0   0  0    0    0     0      0   0    1  1  1   1  1   1\n",
    "        # (b) For single sequences:\n",
    "        #  tokens:   [CLS] the dog is hairy . [SEP]\n",
    "        #  type_ids:   0   0   0   0  0     0   0\n",
    "        #\n",
    "        # Where \"type_ids\" are used to indicate whether this is the first\n",
    "        # sequence or the second sequence. The embedding vectors for `type=0` and\n",
    "        # `type=1` were learned during pre-training and are added to the wordpiece\n",
    "        # embedding vector (and position vector). This is not *strictly* necessary\n",
    "        # since the [SEP] token unambigiously separates the sequences, but it makes\n",
    "        # it easier for the model to learn the concept of sequences.\n",
    "        #\n",
    "        # For classification tasks, the first vector (corresponding to [CLS]) is\n",
    "        # used as as the \"sentence vector\". Note that this only makes sense because\n",
    "        # the entire model is fine-tuned.\n",
    "        tokens = []\n",
    "        input_type_ids = []\n",
    "        tokens.append(\"[CLS]\")\n",
    "        input_type_ids.append(0)\n",
    "        for token in tokens_a:\n",
    "            tokens.append(token)\n",
    "            input_type_ids.append(0)\n",
    "        tokens.append(\"[SEP]\")\n",
    "        input_type_ids.append(0)\n",
    "\n",
    "        if tokens_b:\n",
    "            for token in tokens_b:\n",
    "                tokens.append(token)\n",
    "                input_type_ids.append(1)\n",
    "            tokens.append(\"[SEP]\")\n",
    "            input_type_ids.append(1)\n",
    "\n",
    "        input_ids = tokenizer.convert_tokens_to_ids(tokens)\n",
    "\n",
    "        # The mask has 1 for real tokens and 0 for padding tokens. Only real\n",
    "        # tokens are attended to.\n",
    "        input_mask = [1] * len(input_ids)\n",
    "\n",
    "        # Zero-pad up to the sequence length.\n",
    "        while len(input_ids) < seq_length:\n",
    "            input_ids.append(0)\n",
    "            input_mask.append(0)\n",
    "            input_type_ids.append(0)\n",
    "\n",
    "        assert len(input_ids) == seq_length\n",
    "        assert len(input_mask) == seq_length\n",
    "        assert len(input_type_ids) == seq_length\n",
    "\n",
    "        features.append(\n",
    "            InputFeatures(\n",
    "                unique_id=example.unique_id,\n",
    "                tokens=tokens,\n",
    "                input_ids=input_ids,\n",
    "                input_mask=input_mask,\n",
    "                input_type_ids=input_type_ids))\n",
    "    return features\n",
    "\n",
    "\n",
    "def _truncate_seq_pair(tokens_a, tokens_b, max_length):\n",
    "    \"\"\"Truncates a sequence pair in place to the maximum length.\"\"\"\n",
    "\n",
    "    # This is a simple heuristic which will always truncate the longer sequence\n",
    "    # one token at a time. This makes more sense than truncating an equal percent\n",
    "    # of tokens from each, since if one sequence is very short then each token\n",
    "    # that's truncated likely contains more information than a longer sequence.\n",
    "    while True:\n",
    "        total_length = len(tokens_a) + len(tokens_b)\n",
    "        if total_length <= max_length:\n",
    "            break\n",
    "        if len(tokens_a) > len(tokens_b):\n",
    "            tokens_a.pop()\n",
    "        else:\n",
    "            tokens_b.pop()\n",
    "\n",
    "\n",
    "def read_examples(input_file):\n",
    "    \"\"\"Read a list of `InputExample`s from an input file.\"\"\"\n",
    "    examples = []\n",
    "    unique_id = 0\n",
    "    with open(input_file, \"r\", encoding='utf-8') as reader:\n",
    "        while True:\n",
    "            line = reader.readline()\n",
    "            if not line:\n",
    "                break\n",
    "            line = line.strip()\n",
    "            text_a = None\n",
    "            text_b = None\n",
    "            m = re.match(r\"^(.*) \\|\\|\\| (.*)$\", line)\n",
    "            if m is None:\n",
    "                text_a = line\n",
    "            else:\n",
    "                text_a = m.group(1)\n",
    "                text_b = m.group(2)\n",
    "            examples.append(\n",
    "                InputExample(unique_id=unique_id, text_a=text_a, text_b=text_b))\n",
    "            unique_id += 1\n",
    "    return examples\n",
    "\n",
    "\n",
    "def read_labels(input_file):\n",
    "    with open(input_file) as f:\n",
    "        labels = []\n",
    "        for line in f:\n",
    "            labels.append(float(line.strip('\\n')))\n",
    "        return labels\n",
    "\n",
    "\n",
    "class BertFeaturesDataset(Dataset):\n",
    "    \"\"\"\n",
    "    Parameters\n",
    "    ----------\n",
    "    input_file : str\n",
    "        Path to input file with strings\n",
    "    bert_model : str\n",
    "        Bert pre-trained model selected in the list: bert-base-uncased,\n",
    "        bert-large-uncased, bert-base-cased, bert-base-multilingual,\n",
    "        bert-base-chinese.\n",
    "    \"\"\"\n",
    "\n",
    "    def __init__(self, input_file, labels_file, bert_model,\n",
    "                 max_seq_length=256, batch_size=4):\n",
    "\n",
    "        self.input_file = input_file\n",
    "        self.labels_file = labels_file\n",
    "        self.bert_model = bert_model\n",
    "        self.max_seq_length = max_seq_length\n",
    "        self.batch_size = batch_size\n",
    "\n",
    "        self.tensor_dataset = self.init_bert_dataset(\n",
    "            self.input_file, self.labels_file,\n",
    "            self.bert_model, self.max_seq_length\n",
    "        )\n",
    "        self.dataset = self.get_bert_embeddings(self.tensor_dataset,\n",
    "                                                self.bert_model,\n",
    "                                                self.batch_size)\n",
    "\n",
    "        self.labels = read_labels(self.labels_file)\n",
    "\n",
    "    def __len__(self):\n",
    "        return len(self.dataset)\n",
    "\n",
    "    def __getitem__(self, idx):\n",
    "        sample = {\n",
    "            'embedding': self.dataset[idx][0],\n",
    "            'label': self.labels[idx]\n",
    "        }\n",
    "        return sample\n",
    "\n",
    "    def init_bert_dataset(self, input_file, labels_file, bert_model,\n",
    "                          max_seq_length):\n",
    "\n",
    "        tokenizer = BertTokenizer.from_pretrained(\n",
    "            bert_model, do_lower_case=True\n",
    "        )\n",
    "        examples = read_examples(input_file)\n",
    "        features = convert_examples_to_features(\n",
    "            examples=examples, seq_length=max_seq_length, tokenizer=tokenizer\n",
    "        )\n",
    "\n",
    "        self.all_input_ids = torch.tensor(\n",
    "            [f.input_ids for f in features], dtype=torch.long\n",
    "        )\n",
    "        self.all_input_mask = torch.tensor(\n",
    "            [f.input_mask for f in features], dtype=torch.long\n",
    "        )\n",
    "        self.all_example_index = torch.arange(\n",
    "            self.all_input_ids.size(0), dtype=torch.long\n",
    "        )\n",
    "        return TensorDataset(self.all_input_ids,\n",
    "                             self.all_input_mask,\n",
    "                             self.all_example_index)\n",
    "\n",
    "    def get_bert_embeddings(self, tensor_dataset, bert_model, batch_size):\n",
    "\n",
    "        device = torch.device(\"cuda\" if torch.cuda.is_available() else \"cpu\")\n",
    "        n_gpu = torch.cuda.device_count()\n",
    "        model = BertModel.from_pretrained(bert_model)\n",
    "        model.to(device)\n",
    "        if n_gpu > 1:\n",
    "            model = torch.nn.DataParallel(model)\n",
    "\n",
    "        sampler = SequentialSampler(tensor_dataset)\n",
    "        dataloader = DataLoader(tensor_dataset, sampler=sampler,\n",
    "                                batch_size=self.batch_size)\n",
    "\n",
    "        embedding_dataset = []\n",
    "        with torch.no_grad():\n",
    "            for inp_id, inp_mask, ex_index in dataloader:\n",
    "                layers, _ = model(inp_id, token_type_ids=None,\n",
    "                                  attention_mask=inp_mask)\n",
    "                stack_last_4_layers = torch.stack(layers[-4:])\n",
    "                embedding = torch.sum(stack_last_4_layers, dim=0)\n",
    "                embedding_dataset.append(embedding)\n",
    "\n",
    "        return TensorDataset(torch.cat(embedding_dataset, dim=0))\n"
   ]
  },
  {
   "cell_type": "code",
   "execution_count": 86,
   "metadata": {},
   "outputs": [],
   "source": [
    "bert = BertFeaturesDataset('annotations_eng.txt', 'labels.txt', 'bert-base-uncased')"
   ]
  },
  {
   "cell_type": "code",
   "execution_count": 91,
   "metadata": {},
   "outputs": [],
   "source": [
    "dl = DataLoader(bert, batch_size=3)"
   ]
  },
  {
   "cell_type": "code",
   "execution_count": 92,
   "metadata": {},
   "outputs": [],
   "source": [
    "for batch in dl:\n",
    "    emb = batch['embedding']"
   ]
  },
  {
   "cell_type": "code",
   "execution_count": 97,
   "metadata": {},
   "outputs": [
    {
     "data": {
      "text/plain": [
       "torch.Size([4, 256, 768])"
      ]
     },
     "execution_count": 97,
     "metadata": {},
     "output_type": "execute_result"
    }
   ],
   "source": [
    "bert[:4]['embedding'].shape"
   ]
  },
  {
   "cell_type": "code",
   "execution_count": 84,
   "metadata": {},
   "outputs": [
    {
     "data": {
      "text/plain": [
       "(tensor([[-0.7085, -2.8616,  0.9038,  ..., -0.9680,  0.5881,  1.7080],\n",
       "         [-0.7054,  1.4616,  2.0468,  ..., -2.7652,  2.0887,  2.3874],\n",
       "         [ 0.6190, -0.5387,  2.2620,  ..., -2.5470,  1.0681,  0.7075],\n",
       "         ...,\n",
       "         [-2.2679, -0.7138,  0.4543,  ..., -2.2436, -2.4452, -3.4292],\n",
       "         [-0.6971, -0.0125,  2.4319,  ..., -2.5187,  0.9869,  0.9003],\n",
       "         [ 0.4324,  0.2754,  0.1237,  ...,  0.0489, -0.1980, -0.3975]]),)"
      ]
     },
     "execution_count": 84,
     "metadata": {},
     "output_type": "execute_result"
    }
   ],
   "source": [
    "bert[0]['embedding']"
   ]
  },
  {
   "cell_type": "code",
   "execution_count": 41,
   "metadata": {},
   "outputs": [
    {
     "data": {
      "text/plain": [
       "(tensor([[-0.1111, -3.9795,  0.5539,  ..., -0.5093, -0.0370,  2.2630],\n",
       "         [ 0.1307,  3.3981,  2.7187,  ..., -2.5683,  2.2881,  2.3324],\n",
       "         [-0.1444, -2.0087,  2.1238,  ..., -2.7082,  1.6944,  2.0819],\n",
       "         ...,\n",
       "         [-2.5823, -0.0720,  2.4898,  ..., -1.4330, -1.5861, -1.6957],\n",
       "         [-0.8712, -1.5009,  0.1221,  ..., -1.8574,  1.3310, -0.0285],\n",
       "         [ 0.3578,  0.4861,  0.0684,  ...,  0.2164, -0.3041, -0.3666]]),)"
      ]
     },
     "execution_count": 41,
     "metadata": {},
     "output_type": "execute_result"
    }
   ],
   "source": []
  },
  {
   "cell_type": "code",
   "execution_count": 100,
   "metadata": {},
   "outputs": [],
   "source": [
    "import pandas as pd"
   ]
  },
  {
   "cell_type": "code",
   "execution_count": 106,
   "metadata": {},
   "outputs": [],
   "source": [
    "\n",
    "df = pd.read_csv('../../brain-tumor/data/TRAIN_SET/ozerki_annotated_not_segmented/brain-labels.csv', header=None, dtype={0:str, 1:int})"
   ]
  },
  {
   "cell_type": "code",
   "execution_count": 107,
   "metadata": {},
   "outputs": [
    {
     "name": "stdout",
     "output_type": "stream",
     "text": [
      "<class 'pandas.core.frame.DataFrame'>\n",
      "RangeIndex: 9 entries, 0 to 8\n",
      "Data columns (total 2 columns):\n",
      "0    9 non-null object\n",
      "1    9 non-null int64\n",
      "dtypes: int64(1), object(1)\n",
      "memory usage: 224.0+ bytes\n"
     ]
    }
   ],
   "source": [
    "df.info()"
   ]
  },
  {
   "cell_type": "code",
   "execution_count": 116,
   "metadata": {},
   "outputs": [
    {
     "data": {
      "text/plain": [
       "['G10', 'G9', 'G7', 'G6', 'G5', 'G4', 'G3', 'G2', 'G1']"
      ]
     },
     "execution_count": 116,
     "metadata": {},
     "output_type": "execute_result"
    }
   ],
   "source": [
    "df.iloc[:,0].to_list()"
   ]
  },
  {
   "cell_type": "code",
   "execution_count": 18,
   "metadata": {},
   "outputs": [],
   "source": [
    "import os\n",
    "path_to_img_folder = '../../brain-tumor/data/TRAIN_SET/ozerki_annotated_not_segmented/'\n",
    "patient_name = 'G10'"
   ]
  },
  {
   "cell_type": "code",
   "execution_count": 121,
   "metadata": {},
   "outputs": [],
   "source": [
    "path = os.path.join(path_to_img_folder, patient_name)"
   ]
  },
  {
   "cell_type": "code",
   "execution_count": 123,
   "metadata": {},
   "outputs": [
    {
     "data": {
      "text/plain": [
       "'../../brain-tumor/data/TRAIN_SET/ozerki_annotated_not_segmented/G10'"
      ]
     },
     "execution_count": 123,
     "metadata": {},
     "output_type": "execute_result"
    }
   ],
   "source": [
    "path"
   ]
  },
  {
   "cell_type": "code",
   "execution_count": 125,
   "metadata": {},
   "outputs": [],
   "source": [
    "import glob"
   ]
  },
  {
   "cell_type": "code",
   "execution_count": 22,
   "metadata": {},
   "outputs": [],
   "source": [
    "def listdir_nohidden(path):\n",
    "    for f in os.listdir(path):\n",
    "        if not f.startswith('.'):\n",
    "            yield f"
   ]
  },
  {
   "cell_type": "code",
   "execution_count": 139,
   "metadata": {},
   "outputs": [],
   "source": [
    "l = list(listdir_nohidden(path))"
   ]
  },
  {
   "cell_type": "code",
   "execution_count": 140,
   "metadata": {},
   "outputs": [
    {
     "data": {
      "text/plain": [
       "['S70']"
      ]
     },
     "execution_count": 140,
     "metadata": {},
     "output_type": "execute_result"
    }
   ],
   "source": [
    "l"
   ]
  },
  {
   "cell_type": "code",
   "execution_count": 179,
   "metadata": {},
   "outputs": [],
   "source": [
    "\n",
    "\n",
    "def read_images(path_to_img_folder, patient_name):\n",
    "    path = os.path.join(path_to_img_folder, patient_name)\n",
    "    mod_list = list(listdir_nohidden(path))\n",
    "    filelist = list(listdir_nohidden(os.path.join(path, mod_list[0])))\n",
    "    filelist = sorted(filelist, key=lambda x: int(x[1:]))\n",
    "    for file in filelist:\n",
    "        yield glob.glob(os.path.join(path_to_img_folder, patient_name, mod_list[0], file))[0]\n",
    "    "
   ]
  },
  {
   "cell_type": "code",
   "execution_count": 180,
   "metadata": {},
   "outputs": [
    {
     "name": "stdout",
     "output_type": "stream",
     "text": [
      "../../brain-tumor/data/TRAIN_SET/ozerki_annotated_not_segmented/G10/S70/I10\n",
      "../../brain-tumor/data/TRAIN_SET/ozerki_annotated_not_segmented/G10/S70/I20\n",
      "../../brain-tumor/data/TRAIN_SET/ozerki_annotated_not_segmented/G10/S70/I30\n",
      "../../brain-tumor/data/TRAIN_SET/ozerki_annotated_not_segmented/G10/S70/I40\n",
      "../../brain-tumor/data/TRAIN_SET/ozerki_annotated_not_segmented/G10/S70/I50\n",
      "../../brain-tumor/data/TRAIN_SET/ozerki_annotated_not_segmented/G10/S70/I60\n",
      "../../brain-tumor/data/TRAIN_SET/ozerki_annotated_not_segmented/G10/S70/I70\n",
      "../../brain-tumor/data/TRAIN_SET/ozerki_annotated_not_segmented/G10/S70/I80\n",
      "../../brain-tumor/data/TRAIN_SET/ozerki_annotated_not_segmented/G10/S70/I90\n",
      "../../brain-tumor/data/TRAIN_SET/ozerki_annotated_not_segmented/G10/S70/I100\n",
      "../../brain-tumor/data/TRAIN_SET/ozerki_annotated_not_segmented/G10/S70/I110\n",
      "../../brain-tumor/data/TRAIN_SET/ozerki_annotated_not_segmented/G10/S70/I120\n",
      "../../brain-tumor/data/TRAIN_SET/ozerki_annotated_not_segmented/G10/S70/I130\n",
      "../../brain-tumor/data/TRAIN_SET/ozerki_annotated_not_segmented/G10/S70/I140\n",
      "../../brain-tumor/data/TRAIN_SET/ozerki_annotated_not_segmented/G10/S70/I150\n",
      "../../brain-tumor/data/TRAIN_SET/ozerki_annotated_not_segmented/G10/S70/I160\n",
      "../../brain-tumor/data/TRAIN_SET/ozerki_annotated_not_segmented/G10/S70/I170\n",
      "../../brain-tumor/data/TRAIN_SET/ozerki_annotated_not_segmented/G10/S70/I180\n",
      "../../brain-tumor/data/TRAIN_SET/ozerki_annotated_not_segmented/G10/S70/I190\n",
      "../../brain-tumor/data/TRAIN_SET/ozerki_annotated_not_segmented/G10/S70/I200\n",
      "../../brain-tumor/data/TRAIN_SET/ozerki_annotated_not_segmented/G10/S70/I210\n",
      "../../brain-tumor/data/TRAIN_SET/ozerki_annotated_not_segmented/G10/S70/I220\n",
      "../../brain-tumor/data/TRAIN_SET/ozerki_annotated_not_segmented/G10/S70/I230\n",
      "../../brain-tumor/data/TRAIN_SET/ozerki_annotated_not_segmented/G10/S70/I240\n",
      "../../brain-tumor/data/TRAIN_SET/ozerki_annotated_not_segmented/G10/S70/I250\n",
      "../../brain-tumor/data/TRAIN_SET/ozerki_annotated_not_segmented/G10/S70/I260\n",
      "../../brain-tumor/data/TRAIN_SET/ozerki_annotated_not_segmented/G10/S70/I270\n",
      "../../brain-tumor/data/TRAIN_SET/ozerki_annotated_not_segmented/G10/S70/I280\n",
      "../../brain-tumor/data/TRAIN_SET/ozerki_annotated_not_segmented/G10/S70/I290\n",
      "../../brain-tumor/data/TRAIN_SET/ozerki_annotated_not_segmented/G10/S70/I300\n",
      "../../brain-tumor/data/TRAIN_SET/ozerki_annotated_not_segmented/G10/S70/I310\n",
      "../../brain-tumor/data/TRAIN_SET/ozerki_annotated_not_segmented/G10/S70/I320\n",
      "../../brain-tumor/data/TRAIN_SET/ozerki_annotated_not_segmented/G10/S70/I330\n",
      "../../brain-tumor/data/TRAIN_SET/ozerki_annotated_not_segmented/G10/S70/I340\n",
      "../../brain-tumor/data/TRAIN_SET/ozerki_annotated_not_segmented/G10/S70/I350\n",
      "../../brain-tumor/data/TRAIN_SET/ozerki_annotated_not_segmented/G10/S70/I360\n",
      "../../brain-tumor/data/TRAIN_SET/ozerki_annotated_not_segmented/G10/S70/I370\n",
      "../../brain-tumor/data/TRAIN_SET/ozerki_annotated_not_segmented/G10/S70/I380\n",
      "../../brain-tumor/data/TRAIN_SET/ozerki_annotated_not_segmented/G10/S70/I390\n",
      "../../brain-tumor/data/TRAIN_SET/ozerki_annotated_not_segmented/G10/S70/I400\n",
      "../../brain-tumor/data/TRAIN_SET/ozerki_annotated_not_segmented/G10/S70/I410\n",
      "../../brain-tumor/data/TRAIN_SET/ozerki_annotated_not_segmented/G10/S70/I420\n",
      "../../brain-tumor/data/TRAIN_SET/ozerki_annotated_not_segmented/G10/S70/I430\n",
      "../../brain-tumor/data/TRAIN_SET/ozerki_annotated_not_segmented/G10/S70/I440\n",
      "../../brain-tumor/data/TRAIN_SET/ozerki_annotated_not_segmented/G10/S70/I450\n",
      "../../brain-tumor/data/TRAIN_SET/ozerki_annotated_not_segmented/G10/S70/I460\n",
      "../../brain-tumor/data/TRAIN_SET/ozerki_annotated_not_segmented/G10/S70/I470\n",
      "../../brain-tumor/data/TRAIN_SET/ozerki_annotated_not_segmented/G10/S70/I480\n",
      "../../brain-tumor/data/TRAIN_SET/ozerki_annotated_not_segmented/G10/S70/I490\n",
      "../../brain-tumor/data/TRAIN_SET/ozerki_annotated_not_segmented/G10/S70/I500\n",
      "../../brain-tumor/data/TRAIN_SET/ozerki_annotated_not_segmented/G10/S70/I510\n",
      "../../brain-tumor/data/TRAIN_SET/ozerki_annotated_not_segmented/G10/S70/I520\n",
      "../../brain-tumor/data/TRAIN_SET/ozerki_annotated_not_segmented/G10/S70/I530\n",
      "../../brain-tumor/data/TRAIN_SET/ozerki_annotated_not_segmented/G10/S70/I540\n",
      "../../brain-tumor/data/TRAIN_SET/ozerki_annotated_not_segmented/G10/S70/I550\n",
      "../../brain-tumor/data/TRAIN_SET/ozerki_annotated_not_segmented/G10/S70/I560\n",
      "../../brain-tumor/data/TRAIN_SET/ozerki_annotated_not_segmented/G10/S70/I570\n",
      "../../brain-tumor/data/TRAIN_SET/ozerki_annotated_not_segmented/G10/S70/I580\n",
      "../../brain-tumor/data/TRAIN_SET/ozerki_annotated_not_segmented/G10/S70/I590\n",
      "../../brain-tumor/data/TRAIN_SET/ozerki_annotated_not_segmented/G10/S70/I600\n",
      "../../brain-tumor/data/TRAIN_SET/ozerki_annotated_not_segmented/G10/S70/I610\n",
      "../../brain-tumor/data/TRAIN_SET/ozerki_annotated_not_segmented/G10/S70/I620\n",
      "../../brain-tumor/data/TRAIN_SET/ozerki_annotated_not_segmented/G10/S70/I630\n",
      "../../brain-tumor/data/TRAIN_SET/ozerki_annotated_not_segmented/G10/S70/I640\n",
      "../../brain-tumor/data/TRAIN_SET/ozerki_annotated_not_segmented/G10/S70/I650\n",
      "../../brain-tumor/data/TRAIN_SET/ozerki_annotated_not_segmented/G10/S70/I660\n",
      "../../brain-tumor/data/TRAIN_SET/ozerki_annotated_not_segmented/G10/S70/I670\n",
      "../../brain-tumor/data/TRAIN_SET/ozerki_annotated_not_segmented/G10/S70/I680\n",
      "../../brain-tumor/data/TRAIN_SET/ozerki_annotated_not_segmented/G10/S70/I690\n",
      "../../brain-tumor/data/TRAIN_SET/ozerki_annotated_not_segmented/G10/S70/I700\n",
      "../../brain-tumor/data/TRAIN_SET/ozerki_annotated_not_segmented/G10/S70/I710\n",
      "../../brain-tumor/data/TRAIN_SET/ozerki_annotated_not_segmented/G10/S70/I720\n",
      "../../brain-tumor/data/TRAIN_SET/ozerki_annotated_not_segmented/G10/S70/I730\n",
      "../../brain-tumor/data/TRAIN_SET/ozerki_annotated_not_segmented/G10/S70/I740\n",
      "../../brain-tumor/data/TRAIN_SET/ozerki_annotated_not_segmented/G10/S70/I750\n",
      "../../brain-tumor/data/TRAIN_SET/ozerki_annotated_not_segmented/G10/S70/I760\n",
      "../../brain-tumor/data/TRAIN_SET/ozerki_annotated_not_segmented/G10/S70/I770\n",
      "../../brain-tumor/data/TRAIN_SET/ozerki_annotated_not_segmented/G10/S70/I780\n",
      "../../brain-tumor/data/TRAIN_SET/ozerki_annotated_not_segmented/G10/S70/I790\n",
      "../../brain-tumor/data/TRAIN_SET/ozerki_annotated_not_segmented/G10/S70/I800\n",
      "../../brain-tumor/data/TRAIN_SET/ozerki_annotated_not_segmented/G10/S70/I810\n",
      "../../brain-tumor/data/TRAIN_SET/ozerki_annotated_not_segmented/G10/S70/I820\n",
      "../../brain-tumor/data/TRAIN_SET/ozerki_annotated_not_segmented/G10/S70/I830\n",
      "../../brain-tumor/data/TRAIN_SET/ozerki_annotated_not_segmented/G10/S70/I840\n",
      "../../brain-tumor/data/TRAIN_SET/ozerki_annotated_not_segmented/G10/S70/I850\n",
      "../../brain-tumor/data/TRAIN_SET/ozerki_annotated_not_segmented/G10/S70/I860\n",
      "../../brain-tumor/data/TRAIN_SET/ozerki_annotated_not_segmented/G10/S70/I870\n",
      "../../brain-tumor/data/TRAIN_SET/ozerki_annotated_not_segmented/G10/S70/I880\n",
      "../../brain-tumor/data/TRAIN_SET/ozerki_annotated_not_segmented/G10/S70/I890\n",
      "../../brain-tumor/data/TRAIN_SET/ozerki_annotated_not_segmented/G10/S70/I900\n",
      "../../brain-tumor/data/TRAIN_SET/ozerki_annotated_not_segmented/G10/S70/I910\n",
      "../../brain-tumor/data/TRAIN_SET/ozerki_annotated_not_segmented/G10/S70/I920\n",
      "../../brain-tumor/data/TRAIN_SET/ozerki_annotated_not_segmented/G10/S70/I930\n",
      "../../brain-tumor/data/TRAIN_SET/ozerki_annotated_not_segmented/G10/S70/I940\n",
      "../../brain-tumor/data/TRAIN_SET/ozerki_annotated_not_segmented/G10/S70/I950\n",
      "../../brain-tumor/data/TRAIN_SET/ozerki_annotated_not_segmented/G10/S70/I960\n",
      "../../brain-tumor/data/TRAIN_SET/ozerki_annotated_not_segmented/G10/S70/I970\n",
      "../../brain-tumor/data/TRAIN_SET/ozerki_annotated_not_segmented/G10/S70/I980\n",
      "../../brain-tumor/data/TRAIN_SET/ozerki_annotated_not_segmented/G10/S70/I990\n",
      "../../brain-tumor/data/TRAIN_SET/ozerki_annotated_not_segmented/G10/S70/I1000\n",
      "../../brain-tumor/data/TRAIN_SET/ozerki_annotated_not_segmented/G10/S70/I1010\n",
      "../../brain-tumor/data/TRAIN_SET/ozerki_annotated_not_segmented/G10/S70/I1020\n",
      "../../brain-tumor/data/TRAIN_SET/ozerki_annotated_not_segmented/G10/S70/I1030\n",
      "../../brain-tumor/data/TRAIN_SET/ozerki_annotated_not_segmented/G10/S70/I1040\n",
      "../../brain-tumor/data/TRAIN_SET/ozerki_annotated_not_segmented/G10/S70/I1050\n",
      "../../brain-tumor/data/TRAIN_SET/ozerki_annotated_not_segmented/G10/S70/I1060\n",
      "../../brain-tumor/data/TRAIN_SET/ozerki_annotated_not_segmented/G10/S70/I1070\n",
      "../../brain-tumor/data/TRAIN_SET/ozerki_annotated_not_segmented/G10/S70/I1080\n",
      "../../brain-tumor/data/TRAIN_SET/ozerki_annotated_not_segmented/G10/S70/I1090\n",
      "../../brain-tumor/data/TRAIN_SET/ozerki_annotated_not_segmented/G10/S70/I1100\n",
      "../../brain-tumor/data/TRAIN_SET/ozerki_annotated_not_segmented/G10/S70/I1110\n",
      "../../brain-tumor/data/TRAIN_SET/ozerki_annotated_not_segmented/G10/S70/I1120\n",
      "../../brain-tumor/data/TRAIN_SET/ozerki_annotated_not_segmented/G10/S70/I1130\n",
      "../../brain-tumor/data/TRAIN_SET/ozerki_annotated_not_segmented/G10/S70/I1140\n",
      "../../brain-tumor/data/TRAIN_SET/ozerki_annotated_not_segmented/G10/S70/I1150\n",
      "../../brain-tumor/data/TRAIN_SET/ozerki_annotated_not_segmented/G10/S70/I1160\n",
      "../../brain-tumor/data/TRAIN_SET/ozerki_annotated_not_segmented/G10/S70/I1170\n",
      "../../brain-tumor/data/TRAIN_SET/ozerki_annotated_not_segmented/G10/S70/I1180\n",
      "../../brain-tumor/data/TRAIN_SET/ozerki_annotated_not_segmented/G10/S70/I1190\n",
      "../../brain-tumor/data/TRAIN_SET/ozerki_annotated_not_segmented/G10/S70/I1200\n",
      "../../brain-tumor/data/TRAIN_SET/ozerki_annotated_not_segmented/G10/S70/I1210\n",
      "../../brain-tumor/data/TRAIN_SET/ozerki_annotated_not_segmented/G10/S70/I1220\n",
      "../../brain-tumor/data/TRAIN_SET/ozerki_annotated_not_segmented/G10/S70/I1230\n",
      "../../brain-tumor/data/TRAIN_SET/ozerki_annotated_not_segmented/G10/S70/I1240\n",
      "../../brain-tumor/data/TRAIN_SET/ozerki_annotated_not_segmented/G10/S70/I1250\n",
      "../../brain-tumor/data/TRAIN_SET/ozerki_annotated_not_segmented/G10/S70/I1260\n",
      "../../brain-tumor/data/TRAIN_SET/ozerki_annotated_not_segmented/G10/S70/I1270\n",
      "../../brain-tumor/data/TRAIN_SET/ozerki_annotated_not_segmented/G10/S70/I1280\n",
      "../../brain-tumor/data/TRAIN_SET/ozerki_annotated_not_segmented/G10/S70/I1290\n",
      "../../brain-tumor/data/TRAIN_SET/ozerki_annotated_not_segmented/G10/S70/I1300\n",
      "../../brain-tumor/data/TRAIN_SET/ozerki_annotated_not_segmented/G10/S70/I1310\n",
      "../../brain-tumor/data/TRAIN_SET/ozerki_annotated_not_segmented/G10/S70/I1320\n",
      "../../brain-tumor/data/TRAIN_SET/ozerki_annotated_not_segmented/G10/S70/I1330\n",
      "../../brain-tumor/data/TRAIN_SET/ozerki_annotated_not_segmented/G10/S70/I1340\n",
      "../../brain-tumor/data/TRAIN_SET/ozerki_annotated_not_segmented/G10/S70/I1350\n",
      "../../brain-tumor/data/TRAIN_SET/ozerki_annotated_not_segmented/G10/S70/I1360\n",
      "../../brain-tumor/data/TRAIN_SET/ozerki_annotated_not_segmented/G10/S70/I1370\n",
      "../../brain-tumor/data/TRAIN_SET/ozerki_annotated_not_segmented/G10/S70/I1380\n",
      "../../brain-tumor/data/TRAIN_SET/ozerki_annotated_not_segmented/G10/S70/I1390\n",
      "../../brain-tumor/data/TRAIN_SET/ozerki_annotated_not_segmented/G10/S70/I1400\n",
      "../../brain-tumor/data/TRAIN_SET/ozerki_annotated_not_segmented/G10/S70/I1410\n",
      "../../brain-tumor/data/TRAIN_SET/ozerki_annotated_not_segmented/G10/S70/I1420\n",
      "../../brain-tumor/data/TRAIN_SET/ozerki_annotated_not_segmented/G10/S70/I1430\n",
      "../../brain-tumor/data/TRAIN_SET/ozerki_annotated_not_segmented/G10/S70/I1440\n",
      "../../brain-tumor/data/TRAIN_SET/ozerki_annotated_not_segmented/G10/S70/I1450\n",
      "../../brain-tumor/data/TRAIN_SET/ozerki_annotated_not_segmented/G10/S70/I1460\n",
      "../../brain-tumor/data/TRAIN_SET/ozerki_annotated_not_segmented/G10/S70/I1470\n",
      "../../brain-tumor/data/TRAIN_SET/ozerki_annotated_not_segmented/G10/S70/I1480\n",
      "../../brain-tumor/data/TRAIN_SET/ozerki_annotated_not_segmented/G10/S70/I1490\n",
      "../../brain-tumor/data/TRAIN_SET/ozerki_annotated_not_segmented/G10/S70/I1500\n",
      "../../brain-tumor/data/TRAIN_SET/ozerki_annotated_not_segmented/G10/S70/I1510\n",
      "../../brain-tumor/data/TRAIN_SET/ozerki_annotated_not_segmented/G10/S70/I1520\n"
     ]
    }
   ],
   "source": [
    "for file in read_image(path_to_img_folder, patient_name):\n",
    "    print(file)"
   ]
  },
  {
   "cell_type": "code",
   "execution_count": 17,
   "metadata": {},
   "outputs": [
    {
     "ename": "NameError",
     "evalue": "name 'path_to_img_folder' is not defined",
     "output_type": "error",
     "traceback": [
      "\u001b[0;31m---------------------------------------------------------------------------\u001b[0m",
      "\u001b[0;31mNameError\u001b[0m                                 Traceback (most recent call last)",
      "\u001b[0;32m<ipython-input-17-37e50337ef8f>\u001b[0m in \u001b[0;36m<module>\u001b[0;34m\u001b[0m\n\u001b[0;32m----> 1\u001b[0;31m \u001b[0mpath_to_img_folder\u001b[0m\u001b[0;34m\u001b[0m\u001b[0;34m\u001b[0m\u001b[0m\n\u001b[0m",
      "\u001b[0;31mNameError\u001b[0m: name 'path_to_img_folder' is not defined"
     ]
    }
   ],
   "source": [
    "path_to_img_folder"
   ]
  },
  {
   "cell_type": "code",
   "execution_count": 170,
   "metadata": {},
   "outputs": [
    {
     "data": {
      "text/plain": [
       "['I10',\n",
       " 'I20',\n",
       " 'I30',\n",
       " 'I40',\n",
       " 'I50',\n",
       " 'I60',\n",
       " 'I70',\n",
       " 'I80',\n",
       " 'I90',\n",
       " 'I100',\n",
       " 'I110',\n",
       " 'I120',\n",
       " 'I130',\n",
       " 'I140',\n",
       " 'I150',\n",
       " 'I160',\n",
       " 'I170',\n",
       " 'I180',\n",
       " 'I190',\n",
       " 'I200',\n",
       " 'I210',\n",
       " 'I220',\n",
       " 'I230',\n",
       " 'I240',\n",
       " 'I250',\n",
       " 'I260',\n",
       " 'I270',\n",
       " 'I280',\n",
       " 'I290',\n",
       " 'I300',\n",
       " 'I310',\n",
       " 'I320',\n",
       " 'I330',\n",
       " 'I340',\n",
       " 'I350',\n",
       " 'I360',\n",
       " 'I370',\n",
       " 'I380',\n",
       " 'I390',\n",
       " 'I400',\n",
       " 'I410',\n",
       " 'I420',\n",
       " 'I430',\n",
       " 'I440',\n",
       " 'I450',\n",
       " 'I460',\n",
       " 'I470',\n",
       " 'I480',\n",
       " 'I490',\n",
       " 'I500',\n",
       " 'I510',\n",
       " 'I520',\n",
       " 'I530',\n",
       " 'I540',\n",
       " 'I550',\n",
       " 'I560',\n",
       " 'I570',\n",
       " 'I580',\n",
       " 'I590',\n",
       " 'I600',\n",
       " 'I610',\n",
       " 'I620',\n",
       " 'I630',\n",
       " 'I640',\n",
       " 'I650',\n",
       " 'I660',\n",
       " 'I670',\n",
       " 'I680',\n",
       " 'I690',\n",
       " 'I700',\n",
       " 'I710',\n",
       " 'I720',\n",
       " 'I730',\n",
       " 'I740',\n",
       " 'I750',\n",
       " 'I760',\n",
       " 'I770',\n",
       " 'I780',\n",
       " 'I790',\n",
       " 'I800',\n",
       " 'I810',\n",
       " 'I820',\n",
       " 'I830',\n",
       " 'I840',\n",
       " 'I850',\n",
       " 'I860',\n",
       " 'I870',\n",
       " 'I880',\n",
       " 'I890',\n",
       " 'I900',\n",
       " 'I910',\n",
       " 'I920',\n",
       " 'I930',\n",
       " 'I940',\n",
       " 'I950',\n",
       " 'I960',\n",
       " 'I970',\n",
       " 'I980',\n",
       " 'I990',\n",
       " 'I1000',\n",
       " 'I1010',\n",
       " 'I1020',\n",
       " 'I1030',\n",
       " 'I1040',\n",
       " 'I1050',\n",
       " 'I1060',\n",
       " 'I1070',\n",
       " 'I1080',\n",
       " 'I1090',\n",
       " 'I1100',\n",
       " 'I1110',\n",
       " 'I1120',\n",
       " 'I1130',\n",
       " 'I1140',\n",
       " 'I1150',\n",
       " 'I1160',\n",
       " 'I1170',\n",
       " 'I1180',\n",
       " 'I1190',\n",
       " 'I1200',\n",
       " 'I1210',\n",
       " 'I1220',\n",
       " 'I1230',\n",
       " 'I1240',\n",
       " 'I1250',\n",
       " 'I1260',\n",
       " 'I1270',\n",
       " 'I1280',\n",
       " 'I1290',\n",
       " 'I1300',\n",
       " 'I1310',\n",
       " 'I1320',\n",
       " 'I1330',\n",
       " 'I1340',\n",
       " 'I1350',\n",
       " 'I1360',\n",
       " 'I1370',\n",
       " 'I1380',\n",
       " 'I1390',\n",
       " 'I1400',\n",
       " 'I1410',\n",
       " 'I1420',\n",
       " 'I1430',\n",
       " 'I1440',\n",
       " 'I1450',\n",
       " 'I1460',\n",
       " 'I1470',\n",
       " 'I1480',\n",
       " 'I1490',\n",
       " 'I1500',\n",
       " 'I1510',\n",
       " 'I1520']"
      ]
     },
     "execution_count": 170,
     "metadata": {},
     "output_type": "execute_result"
    }
   ],
   "source": [
    "sorted(list(read_image(path_to_img_folder, patient_name)), key=lambda x: int(x[1:]))"
   ]
  },
  {
   "cell_type": "code",
   "execution_count": 19,
   "metadata": {},
   "outputs": [],
   "source": [
    "import pydicom\n",
    "import matplotlib.pyplot as plt\n",
    "import matplotlib.cm as cm"
   ]
  },
  {
   "cell_type": "code",
   "execution_count": 81,
   "metadata": {},
   "outputs": [],
   "source": [
    "img = pydicom.dcmread('../../brain-tumor/data/TRAIN_SET/ozerki_annotated_not_segmented/G4/S140/I210').pixel_array\n"
   ]
  },
  {
   "cell_type": "code",
   "execution_count": 82,
   "metadata": {},
   "outputs": [
    {
     "data": {
      "text/plain": [
       "(256, 232)"
      ]
     },
     "execution_count": 82,
     "metadata": {},
     "output_type": "execute_result"
    }
   ],
   "source": [
    "img.shape"
   ]
  },
  {
   "cell_type": "code",
   "execution_count": 13,
   "metadata": {},
   "outputs": [
    {
     "data": {
      "text/plain": [
       "<matplotlib.image.AxesImage at 0x114bec748>"
      ]
     },
     "execution_count": 13,
     "metadata": {},
     "output_type": "execute_result"
    },
    {
     "data": {
      "image/png": "[encoded data removed]",
      "text/plain": [
       "<Figure size 432x288 with 1 Axes>"
      ]
     },
     "metadata": {
      "image/png": {
       "height": 251,
       "width": 263
      },
      "needs_background": "light"
     },
     "output_type": "display_data"
    }
   ],
   "source": [
    "plt.imshow(img, cmap=cm.gray)"
   ]
  },
  {
   "cell_type": "code",
   "execution_count": 20,
   "metadata": {},
   "outputs": [],
   "source": [
    "def images_path(path_to_img_folder, patient_name):\n",
    "    path = os.path.join(path_to_img_folder, patient_name)\n",
    "    mod_list = list(listdir_nohidden(path))  # TODO: handle several modalities\n",
    "    filelist = list(listdir_nohidden(os.path.join(path, mod_list[0])))\n",
    "    filelist = sorted(filelist, key=lambda x: int(x[1:]))\n",
    "    for file in filelist:\n",
    "        yield glob.glob(os.path.join(path_to_img_folder,\n",
    "                        patient_name, mod_list[0], file))[0]\n",
    "\n",
    "\n",
    "def read_image(path_to_image_file):\n",
    "    return pydicom.dcmread(path_to_image_file).pixel_array\n",
    "\n",
    "\n",
    "def stack_images(path_to_img_folder, patient_name):\n",
    "    image = []\n",
    "    for img_path in images_path(path_to_img_folder, patient_name):\n",
    "        image.append(read_image(img_path))\n",
    "    return np.array(image)"
   ]
  },
  {
   "cell_type": "code",
   "execution_count": 26,
   "metadata": {},
   "outputs": [],
   "source": [
    "import glob\n",
    "import numpy as np"
   ]
  },
  {
   "cell_type": "code",
   "execution_count": 28,
   "metadata": {},
   "outputs": [
    {
     "data": {
      "text/plain": [
       "(152, 256, 256)"
      ]
     },
     "execution_count": 28,
     "metadata": {},
     "output_type": "execute_result"
    }
   ],
   "source": [
    "stack_images(path_to_img_folder, patient_name)"
   ]
  },
  {
   "cell_type": "code",
   "execution_count": 3,
   "metadata": {},
   "outputs": [],
   "source": [
    "# coding=utf-8\n",
    "# Copyright 2018 The Google AI Language Team Authors and The HuggingFace Inc. team.\n",
    "#\n",
    "# Licensed under the Apache License, Version 2.0 (the \"License\");\n",
    "# you may not use this file except in compliance with the License.\n",
    "# You may obtain a copy of the License at\n",
    "#\n",
    "#     http://www.apache.org/licenses/LICENSE-2.0\n",
    "#\n",
    "# Unless required by applicable law or agreed to in writing, software\n",
    "# distributed under the License is distributed on an \"AS IS\" BASIS,\n",
    "# WITHOUT WARRANTIES OR CONDITIONS OF ANY KIND, either express or implied.\n",
    "# See the License for the specific language governing permissions and\n",
    "# limitations under the License.\n",
    "\"\"\"Extract pre-computed feature vectors from a PyTorch BERT model.\"\"\"\n",
    "\n",
    "from __future__ import absolute_import\n",
    "from __future__ import division\n",
    "from __future__ import print_function\n",
    "\n",
    "import argparse\n",
    "import collections\n",
    "import logging\n",
    "import json\n",
    "import re\n",
    "import os\n",
    "import numpy as np\n",
    "import pandas as pd\n",
    "import pydicom\n",
    "import glob\n",
    "from PIL import Image\n",
    "\n",
    "import torch\n",
    "from torch.utils.data import Dataset\n",
    "from torch.utils.data import TensorDataset, DataLoader, SequentialSampler\n",
    "from torch.utils.data.distributed import DistributedSampler\n",
    "\n",
    "from pytorch_pretrained_bert.tokenization import BertTokenizer\n",
    "from pytorch_pretrained_bert.modeling import BertModel\n",
    "\n",
    "\n",
    "class InputExample(object):\n",
    "\n",
    "    def __init__(self, unique_id, text_a, text_b):\n",
    "        self.unique_id = unique_id\n",
    "        self.text_a = text_a\n",
    "        self.text_b = text_b\n",
    "\n",
    "\n",
    "class InputFeatures(object):\n",
    "    \"\"\"A single set of features of data.\"\"\"\n",
    "\n",
    "    def __init__(self, unique_id, tokens, input_ids, input_mask, input_type_ids):\n",
    "        self.unique_id = unique_id\n",
    "        self.tokens = tokens\n",
    "        self.input_ids = input_ids\n",
    "        self.input_mask = input_mask\n",
    "        self.input_type_ids = input_type_ids\n",
    "\n",
    "\n",
    "def convert_examples_to_features(examples, seq_length, tokenizer):\n",
    "    \"\"\"Loads a data file into a list of `InputFeature`s.\"\"\"\n",
    "\n",
    "    features = []\n",
    "    for (ex_index, example) in enumerate(examples):\n",
    "        tokens_a = tokenizer.tokenize(example.text_a)\n",
    "\n",
    "        tokens_b = None\n",
    "        if example.text_b:\n",
    "            tokens_b = tokenizer.tokenize(example.text_b)\n",
    "\n",
    "        if tokens_b:\n",
    "            # Modifies `tokens_a` and `tokens_b` in place so that the total\n",
    "            # length is less than the specified length.\n",
    "            # Account for [CLS], [SEP], [SEP] with \"- 3\"\n",
    "            _truncate_seq_pair(tokens_a, tokens_b, seq_length - 3)\n",
    "        else:\n",
    "            # Account for [CLS] and [SEP] with \"- 2\"\n",
    "            if len(tokens_a) > seq_length - 2:\n",
    "                tokens_a = tokens_a[0:(seq_length - 2)]\n",
    "\n",
    "        # The convention in BERT is:\n",
    "        # (a) For sequence pairs:\n",
    "        #  tokens:   [CLS] is this jack ##son ##ville ? [SEP] no it is not . [SEP]\n",
    "        #  type_ids:   0   0  0    0    0     0      0   0    1  1  1   1  1   1\n",
    "        # (b) For single sequences:\n",
    "        #  tokens:   [CLS] the dog is hairy . [SEP]\n",
    "        #  type_ids:   0   0   0   0  0     0   0\n",
    "        #\n",
    "        # Where \"type_ids\" are used to indicate whether this is the first\n",
    "        # sequence or the second sequence. The embedding vectors for `type=0` and\n",
    "        # `type=1` were learned during pre-training and are added to the wordpiece\n",
    "        # embedding vector (and position vector). This is not *strictly* necessary\n",
    "        # since the [SEP] token unambigiously separates the sequences, but it makes\n",
    "        # it easier for the model to learn the concept of sequences.\n",
    "        #\n",
    "        # For classification tasks, the first vector (corresponding to [CLS]) is\n",
    "        # used as as the \"sentence vector\". Note that this only makes sense because\n",
    "        # the entire model is fine-tuned.\n",
    "        tokens = []\n",
    "        input_type_ids = []\n",
    "        tokens.append(\"[CLS]\")\n",
    "        input_type_ids.append(0)\n",
    "        for token in tokens_a:\n",
    "            tokens.append(token)\n",
    "            input_type_ids.append(0)\n",
    "        tokens.append(\"[SEP]\")\n",
    "        input_type_ids.append(0)\n",
    "\n",
    "        if tokens_b:\n",
    "            for token in tokens_b:\n",
    "                tokens.append(token)\n",
    "                input_type_ids.append(1)\n",
    "            tokens.append(\"[SEP]\")\n",
    "            input_type_ids.append(1)\n",
    "\n",
    "        input_ids = tokenizer.convert_tokens_to_ids(tokens)\n",
    "\n",
    "        # The mask has 1 for real tokens and 0 for padding tokens. Only real\n",
    "        # tokens are attended to.\n",
    "        input_mask = [1] * len(input_ids)\n",
    "\n",
    "        # Zero-pad up to the sequence length.\n",
    "        while len(input_ids) < seq_length:\n",
    "            input_ids.append(0)\n",
    "            input_mask.append(0)\n",
    "            input_type_ids.append(0)\n",
    "\n",
    "        assert len(input_ids) == seq_length\n",
    "        assert len(input_mask) == seq_length\n",
    "        assert len(input_type_ids) == seq_length\n",
    "\n",
    "        features.append(\n",
    "            InputFeatures(\n",
    "                unique_id=example.unique_id,\n",
    "                tokens=tokens,\n",
    "                input_ids=input_ids,\n",
    "                input_mask=input_mask,\n",
    "                input_type_ids=input_type_ids))\n",
    "    return features\n",
    "\n",
    "\n",
    "def _truncate_seq_pair(tokens_a, tokens_b, max_length):\n",
    "    \"\"\"Truncates a sequence pair in place to the maximum length.\"\"\"\n",
    "\n",
    "    # This is a simple heuristic which will always truncate the longer sequence\n",
    "    # one token at a time. This makes more sense than truncating an equal percent\n",
    "    # of tokens from each, since if one sequence is very short then each token\n",
    "    # that's truncated likely contains more information than a longer sequence.\n",
    "    while True:\n",
    "        total_length = len(tokens_a) + len(tokens_b)\n",
    "        if total_length <= max_length:\n",
    "            break\n",
    "        if len(tokens_a) > len(tokens_b):\n",
    "            tokens_a.pop()\n",
    "        else:\n",
    "            tokens_b.pop()\n",
    "\n",
    "\n",
    "def read_examples(input_file):\n",
    "    \"\"\"Read a list of `InputExample`s from an input file.\"\"\"\n",
    "    examples = []\n",
    "    unique_id = 0\n",
    "    with open(input_file, \"r\", encoding='utf-8') as reader:\n",
    "        while True:\n",
    "            line = reader.readline()\n",
    "            if not line:\n",
    "                break\n",
    "            line = line.strip()\n",
    "            text_a = None\n",
    "            text_b = None\n",
    "            m = re.match(r\"^(.*) \\|\\|\\| (.*)$\", line)\n",
    "            if m is None:\n",
    "                text_a = line\n",
    "            else:\n",
    "                text_a = m.group(1)\n",
    "                text_b = m.group(2)\n",
    "            examples.append(\n",
    "                InputExample(unique_id=unique_id, text_a=text_a, text_b=text_b))\n",
    "            unique_id += 1\n",
    "    return examples\n",
    "\n",
    "\n",
    "def read_labels(input_file):\n",
    "    with open(input_file) as f:\n",
    "        labels = []\n",
    "        for line in f:\n",
    "            labels.append(float(line.strip('\\n')))\n",
    "        return labels\n",
    "\n",
    "\n",
    "def listdir_nohidden(path):\n",
    "    for f in os.listdir(path):\n",
    "        if not f.startswith('.'):\n",
    "            yield f\n",
    "\n",
    "\n",
    "def images_path(path_to_img_folder, patient_name):\n",
    "    path = os.path.join(path_to_img_folder, patient_name)\n",
    "    mod_list = list(listdir_nohidden(path))  # TODO: handle several modalities\n",
    "    filelist = list(listdir_nohidden(os.path.join(path, mod_list[0])))\n",
    "    filelist = sorted(filelist, key=lambda x: int(x[1:]))\n",
    "    for file in filelist:\n",
    "        yield glob.glob(os.path.join(path_to_img_folder,\n",
    "                        patient_name, mod_list[0], file))[0]\n",
    "\n",
    "\n",
    "def read_image(path_to_image_file):\n",
    "    p_array = np.array(pydicom.dcmread(path_to_image_file).pixel_array)\n",
    "    pil_img = Image.fromarray(p_array)\n",
    "    pil_img = pil_img.resize((256, 256))\n",
    "    p_array = np.array(pil_img, dtype='int64')\n",
    "    return p_array\n",
    "\n",
    "\n",
    "# TODO: Eliminate of bones\n",
    "def stack_images(path_to_img_folder, patient_name):\n",
    "    image = []\n",
    "    for img_path in images_path(path_to_img_folder, patient_name):\n",
    "        image.append(read_image(img_path))\n",
    "    return np.array(image)\n",
    "\n",
    "\n",
    "class BertFeaturesDataset(Dataset):\n",
    "    \"\"\"\n",
    "    Parameters\n",
    "    ----------\n",
    "    input_file : str\n",
    "        Path to input file with strings\n",
    "    bert_model : str\n",
    "        Bert pre-trained model selected in the list: bert-base-uncased,\n",
    "        bert-large-uncased, bert-base-cased, bert-base-multilingual,\n",
    "        bert-base-chinese.\n",
    "    \"\"\"\n",
    "\n",
    "    def __init__(self, imgs_folder, input_text_file, labels_file, bert_model,\n",
    "                 max_seq_length=256, batch_size=4):\n",
    "\n",
    "        self.imgs_folder = imgs_folder\n",
    "        self.input_file = input_text_file\n",
    "        self.labels_file = labels_file\n",
    "        self.bert_model = bert_model\n",
    "        self.max_seq_length = max_seq_length\n",
    "        self.batch_size = batch_size\n",
    "\n",
    "        self.tensor_dataset = self.init_bert_dataset(\n",
    "            self.input_file, self.labels_file,\n",
    "            self.bert_model, self.max_seq_length\n",
    "        )\n",
    "        self.dataset = self.get_bert_embeddings(self.tensor_dataset,\n",
    "                                                self.bert_model,\n",
    "                                                self.batch_size)\n",
    "        df = pd.read_csv(self.labels_file, header=None, dtype={0: str, 1: int})\n",
    "        self.labels = df.iloc[:, 1].values\n",
    "        self.names = df.iloc[:, 0].to_list()\n",
    "\n",
    "    def __len__(self):\n",
    "        return len(self.dataset)\n",
    "\n",
    "    def __getitem__(self, idx):\n",
    "        name = self.names[idx]\n",
    "        img = stack_images(self.imgs_folder, name)\n",
    "\n",
    "        sample = {\n",
    "            'image': img,\n",
    "            'embedding': self.dataset[idx],\n",
    "            'label': self.labels[idx],\n",
    "            'name': self.names[idx]\n",
    "        }\n",
    "        return sample\n",
    "\n",
    "    def init_bert_dataset(self, input_file, labels_file, bert_model,\n",
    "                          max_seq_length):\n",
    "\n",
    "        tokenizer = BertTokenizer.from_pretrained(\n",
    "            bert_model, do_lower_case=True\n",
    "        )\n",
    "        examples = read_examples(input_file)\n",
    "        features = convert_examples_to_features(\n",
    "            examples=examples, seq_length=max_seq_length, tokenizer=tokenizer\n",
    "        )\n",
    "\n",
    "        self.all_input_ids = torch.tensor(\n",
    "            [f.input_ids for f in features], dtype=torch.long\n",
    "        )\n",
    "        self.all_input_mask = torch.tensor(\n",
    "            [f.input_mask for f in features], dtype=torch.long\n",
    "        )\n",
    "        self.all_example_index = torch.arange(\n",
    "            self.all_input_ids.size(0), dtype=torch.long\n",
    "        )\n",
    "        return TensorDataset(self.all_input_ids,\n",
    "                             self.all_input_mask,\n",
    "                             self.all_example_index)\n",
    "\n",
    "    def get_bert_embeddings(self, tensor_dataset, bert_model, batch_size):\n",
    "\n",
    "        device = torch.device(\"cuda\" if torch.cuda.is_available() else \"cpu\")\n",
    "        n_gpu = torch.cuda.device_count()\n",
    "        model = BertModel.from_pretrained(bert_model)\n",
    "        model.to(device)\n",
    "        if n_gpu > 1:\n",
    "            model = torch.nn.DataParallel(model)\n",
    "\n",
    "        sampler = SequentialSampler(tensor_dataset)\n",
    "        dataloader = DataLoader(tensor_dataset, sampler=sampler,\n",
    "                                batch_size=self.batch_size)\n",
    "\n",
    "        embedding_dataset = []\n",
    "        with torch.no_grad():\n",
    "            for inp_id, inp_mask, ex_index in dataloader:\n",
    "                layers, _ = model(inp_id, token_type_ids=None,\n",
    "                                  attention_mask=inp_mask)\n",
    "                stack_last_4_layers = torch.stack(layers[-4:])\n",
    "                embedding = torch.sum(stack_last_4_layers, dim=0)\n",
    "                embedding_dataset.append(embedding)\n",
    "\n",
    "        return TensorDataset(torch.cat(embedding_dataset, dim=0))\n"
   ]
  },
  {
   "cell_type": "code",
   "execution_count": 4,
   "metadata": {},
   "outputs": [],
   "source": [
    "path_to_img_folder = '../../brain-tumor/data/TRAIN_SET/ozerki_annotated_not_segmented/'"
   ]
  },
  {
   "cell_type": "code",
   "execution_count": 5,
   "metadata": {},
   "outputs": [],
   "source": [
    "def stack_images(path_to_img_folder, patient_name):\n",
    "    image = []\n",
    "    for img_path in images_path(path_to_img_folder, patient_name):\n",
    "        image.append(read_image(img_path))\n",
    "    return np.array(image)"
   ]
  },
  {
   "cell_type": "code",
   "execution_count": null,
   "metadata": {},
   "outputs": [],
   "source": [
    "plt.imshow(imgs[160])"
   ]
  },
  {
   "cell_type": "code",
   "execution_count": 5,
   "metadata": {},
   "outputs": [],
   "source": [
    "bert = BertFeaturesDataset(path_to_img_folder, 'annotations_eng.txt', 'brain-labels.csv', 'bert-base-uncased')\n"
   ]
  },
  {
   "cell_type": "code",
   "execution_count": 4,
   "metadata": {},
   "outputs": [],
   "source": [
    "import glob\n",
    "import numpy as np\n",
    "from torch.utils.data import SequentialSampler\n",
    "sampler = SequentialSampler(bert)"
   ]
  },
  {
   "cell_type": "code",
   "execution_count": 5,
   "metadata": {},
   "outputs": [],
   "source": [
    "dl = DataLoader(bert, sampler=sampler, batch_size=1)"
   ]
  },
  {
   "cell_type": "code",
   "execution_count": 114,
   "metadata": {},
   "outputs": [
    {
     "name": "stdout",
     "output_type": "stream",
     "text": [
      "0\n",
      "torch.Size([1, 152, 256, 256])\n",
      "1\n",
      "torch.Size([1, 152, 256, 256])\n",
      "2\n",
      "torch.Size([1, 180, 256, 256])\n",
      "3\n",
      "torch.Size([1, 152, 256, 256])\n",
      "4\n",
      "torch.Size([1, 152, 256, 256])\n",
      "5\n",
      "torch.Size([1, 176, 256, 256])\n",
      "6\n",
      "torch.Size([1, 152, 256, 256])\n",
      "7\n",
      "torch.Size([1, 152, 256, 256])\n",
      "8\n",
      "torch.Size([1, 152, 256, 256])\n"
     ]
    }
   ],
   "source": [
    "for i, batch in enumerate(dl):\n",
    "    print(i)\n",
    "    print(batch['image'].shape)"
   ]
  },
  {
   "cell_type": "code",
   "execution_count": 6,
   "metadata": {},
   "outputs": [],
   "source": [
    "import matplotlib.pyplot as plt\n",
    "img = bert[2]['image'][160,:,:]"
   ]
  },
  {
   "cell_type": "code",
   "execution_count": 9,
   "metadata": {},
   "outputs": [],
   "source": [
    "im = np.array(img, dtype='uint16')"
   ]
  },
  {
   "cell_type": "code",
   "execution_count": null,
   "metadata": {},
   "outputs": [],
   "source": [
    "plt.imshow(bert[2]['image'][160,:,:])"
   ]
  },
  {
   "cell_type": "code",
   "execution_count": 1,
   "metadata": {},
   "outputs": [
    {
     "ename": "NameError",
     "evalue": "name 'plt' is not defined",
     "output_type": "error",
     "traceback": [
      "\u001b[0;31m---------------------------------------------------------------------------\u001b[0m",
      "\u001b[0;31mNameError\u001b[0m                                 Traceback (most recent call last)",
      "\u001b[0;32m<ipython-input-1-23af6c37b3d0>\u001b[0m in \u001b[0;36m<module>\u001b[0;34m\u001b[0m\n\u001b[0;32m----> 1\u001b[0;31m \u001b[0mplt\u001b[0m\u001b[0;34m.\u001b[0m\u001b[0mimshow\u001b[0m\u001b[0;34m(\u001b[0m\u001b[0mimg\u001b[0m\u001b[0;34m)\u001b[0m\u001b[0;34m\u001b[0m\u001b[0;34m\u001b[0m\u001b[0m\n\u001b[0m",
      "\u001b[0;31mNameError\u001b[0m: name 'plt' is not defined"
     ]
    }
   ],
   "source": [
    "plt.imshow(img)"
   ]
  },
  {
   "cell_type": "code",
   "execution_count": 10,
   "metadata": {},
   "outputs": [],
   "source": [
    "import PIL\n",
    "from PIL import Image"
   ]
  },
  {
   "cell_type": "code",
   "execution_count": 11,
   "metadata": {},
   "outputs": [],
   "source": [
    "im = Image.fromarray(im)"
   ]
  },
  {
   "cell_type": "code",
   "execution_count": 12,
   "metadata": {},
   "outputs": [
    {
     "data": {
      "image/png": "[encoded data removed]",
      "text/plain": [
       "<PIL.Image.Image image mode=I;16 size=256x256 at 0x122B73C88>"
      ]
     },
     "execution_count": 12,
     "metadata": {},
     "output_type": "execute_result"
    }
   ],
   "source": [
    "im"
   ]
  },
  {
   "cell_type": "code",
   "execution_count": 100,
   "metadata": {},
   "outputs": [
    {
     "data": {
      "text/plain": [
       "array([[ 0,  0,  0, ...,  0,  0,  0],\n",
       "       [ 0,  1,  1, ...,  1,  0,  0],\n",
       "       [ 0,  1,  2, ...,  2,  2,  1],\n",
       "       ...,\n",
       "       [ 0, 17, 19, ...,  1,  2,  2],\n",
       "       [ 0, 17, 17, ...,  3,  3,  3],\n",
       "       [ 0, 12, 14, ...,  2,  1,  3]])"
      ]
     },
     "execution_count": 100,
     "metadata": {},
     "output_type": "execute_result"
    }
   ],
   "source": [
    "np.array(im.resize((256,256)), dtype='int64')"
   ]
  },
  {
   "cell_type": "code",
   "execution_count": null,
   "metadata": {},
   "outputs": [],
   "source": []
  }
 ],
 "metadata": {
  "kernelspec": {
   "display_name": "Python 3.7 [brain-texts]",
   "language": "python",
   "name": "brain-texts"
  },
  "language_info": {
   "codemirror_mode": {
    "name": "ipython",
    "version": 3
   },
   "file_extension": ".py",
   "mimetype": "text/x-python",
   "name": "python",
   "nbconvert_exporter": "python",
   "pygments_lexer": "ipython3",
   "version": "3.7.3"
  }
 },
 "nbformat": 4,
 "nbformat_minor": 2
}
