{
 "cells": [
  {
   "cell_type": "code",
   "execution_count": null,
   "metadata": {},
   "outputs": [],
   "source": [
    "import sys\n",
    "sys.path.append(\"/home/artem.lobantsev/pyproj/brain-texts/src/\")\n",
    "%load_ext autoreload\n",
    "%autoreload 2"
   ]
  },
  {
   "cell_type": "code",
   "execution_count": null,
   "metadata": {},
   "outputs": [],
   "source": [
    "import numpy as np\n",
    "import pandas as pd\n",
    "import matplotlib.pyplot as plt\n",
    "\n",
    "from data import mimic_cxr_dataset as cxr\n",
    "\n",
    "from torch.utils.data import Dataset"
   ]
  },
  {
   "cell_type": "code",
   "execution_count": null,
   "metadata": {},
   "outputs": [],
   "source": [
    "DATASET_PATH = \"/ws/rif-net/data/origin/mimic-cxr-2.0.0/\"\n",
    "CHEXPERT_CSV_PATH = \"/ws/rif-net/data/origin/mimic-cxr-2.0.0/mimic-cxr-2.0.0-chexpert.csv\""
   ]
  },
  {
   "cell_type": "code",
   "execution_count": null,
   "metadata": {},
   "outputs": [],
   "source": [
    "dataset = cxr.MIMIC_CXR_Dataset(DATASET_PATH, CHEXPERT_CSV_PATH)"
   ]
  },
  {
   "cell_type": "code",
   "execution_count": null,
   "metadata": {},
   "outputs": [],
   "source": [
    "errors = []\n",
    "for subj in tqdm(dataset):\n",
    "    for study in subj:\n",
    "        for image in study:\n",
    "            try:\n",
    "                _ = image.image\n",
    "                study.report\n",
    "                study.chexpert_labels\n",
    "            except Exception as e:\n",
    "                errors.append((subj.id, study.id, image.id, e))"
   ]
  },
  {
   "cell_type": "code",
   "execution_count": null,
   "metadata": {},
   "outputs": [],
   "source": [
    "df = pd.read_csv(\"/ws/rif-net/data/origin/mimic-cxr-2.0.0/mimic-cxr-2.0.0-chexpert.csv\")\n",
    "df10 = df[df['subject_id'].apply(lambda x: str(x).startswith('10'))]\n",
    "df10[df10.Pneumonia.notna()][\"study_id\"].values"
   ]
  },
  {
   "cell_type": "code",
   "execution_count": null,
   "metadata": {},
   "outputs": [],
   "source": [
    "labels = df10[df10['Pneumonia'].notna()][[\"study_id\", 'Pneumonia']].astype('int')"
   ]
  },
  {
   "cell_type": "code",
   "execution_count": null,
   "metadata": {},
   "outputs": [],
   "source": [
    "labels[labels[\"Pneumonia\"] != -1]"
   ]
  },
  {
   "cell_type": "code",
   "execution_count": null,
   "metadata": {},
   "outputs": [],
   "source": [
    "class MIMICCXRTorchDataset(Dataset):\n",
    "    def __init__(self, root_path: str, cxr_chexpert_csv_path: str, label_name: str = None):\n",
    "\n",
    "        df = pd.read_csv(cxr_chexpert_csv_path)\n",
    "        df10 = df[df['subject_id'].apply(lambda x: str(x).startswith('10'))]\n",
    "        chexpert_labels = df10[df10[label_name].notna()]\n",
    "        chexpert_labels = chexpert_labels[[\"study_id\", label_name]].astype('int')\n",
    "        chexpert_labels = chexpert_labels[chexpert_labels[label_name] != -1]\n",
    "\n",
    "        self.study_ids = list(chexpert_labels.values[:, 0])\n",
    "        self.labels = list(chexpert_labels.values[:, 1])\n",
    "        self.mimic_dataset = cxr.MIMIC_CXR_Dataset(root_path, cxr_chexpert_csv_path)\n",
    "    \n",
    "    def __len__(self):\n",
    "        return len(self.study_ids)\n",
    "    \n",
    "    def __getitem__(self):\n",
    "        "
   ]
  }
 ],
 "metadata": {
  "kernelspec": {
   "display_name": "covid-net",
   "language": "python",
   "name": "covid-net"
  },
  "language_info": {
   "codemirror_mode": {
    "name": "ipython",
    "version": 3
   },
   "file_extension": ".py",
   "mimetype": "text/x-python",
   "name": "python",
   "nbconvert_exporter": "python",
   "pygments_lexer": "ipython3",
   "version": "3.8.3"
  }
 },
 "nbformat": 4,
 "nbformat_minor": 4
}
